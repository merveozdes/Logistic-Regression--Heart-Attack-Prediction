{
 "cells": [
  {
   "cell_type": "markdown",
   "id": "49bfd49f",
   "metadata": {
    "papermill": {
     "duration": 0.075065,
     "end_time": "2022-02-26T09:26:46.311402",
     "exception": false,
     "start_time": "2022-02-26T09:26:46.236337",
     "status": "completed"
    },
    "tags": []
   },
   "source": [
    "## Heart Attack Analysis and Prediction"
   ]
  },
  {
   "cell_type": "markdown",
   "id": "53abd03f",
   "metadata": {
    "papermill": {
     "duration": 0.08696,
     "end_time": "2022-02-26T09:26:46.482327",
     "exception": false,
     "start_time": "2022-02-26T09:26:46.395367",
     "status": "completed"
    },
    "tags": []
   },
   "source": [
    "## What will we do in this project?\n",
    "* Explarotary Data Analysis\n",
    "* Missing Value Analysis\n",
    "* Categoric and Numeric Features\n",
    "* Standardization\n",
    "* Box, Swarm, Cat, Correlation Plot Analysis\n",
    "* Outlier Detection\n",
    "* Machine Learning Modelling and Tuning ML Model"
   ]
  },
  {
   "cell_type": "markdown",
   "id": "c2a920cf",
   "metadata": {
    "papermill": {
     "duration": 0.070992,
     "end_time": "2022-02-26T09:26:46.623488",
     "exception": false,
     "start_time": "2022-02-26T09:26:46.552496",
     "status": "completed"
    },
    "tags": []
   },
   "source": [
    "## Introduction\n",
    "\n",
    "* A heart attack, also called a myocardial infarction, happens when a part of the heart muscle doesn't get enough blood. \n",
    "* The more time that passes without treatment to restore blood flow, the greater the damage to the heart muscle.\n",
    "* Coronary artery disease (CAD) is the main cause of heart attack.\n",
    "\n",
    "\n",
    "\n"
   ]
  },
  {
   "cell_type": "markdown",
   "id": "e1194aef",
   "metadata": {
    "papermill": {
     "duration": 0.070678,
     "end_time": "2022-02-26T09:26:46.764296",
     "exception": false,
     "start_time": "2022-02-26T09:26:46.693618",
     "status": "completed"
    },
    "tags": []
   },
   "source": [
    "## Analysis Content\n",
    "1. [Libraries](#1)\n",
    "2. [Data Content](#2)\n",
    "3. [Read and Analyse Data](#3)\n",
    "4. [Missing Value Analysis](#4)\n",
    "5. [Unique Value Analysis](#5)\n",
    "6. [Categorical Feature Analysis](#6)\n",
    "7. [Numeric Feature Analysis](#7)\n",
    "8. [Standardization](#8)\n",
    "9. [Box Plot Analysis](#9)\n",
    "10. [Swarm Plot Analysis](#10)\n",
    "11. [Cat Plot Analysis](#11)\n",
    "12. [Correlation Analysis](#12)\n",
    "13. [Outlier Detection](#13)\n",
    "14. [Modelling](#14)\n",
    "    1. Encoding Categorical Columns\n",
    "    1. Scaling\n",
    "    1. Train/Test Split\n",
    "    1. Logistic Regression\n",
    "    1. Hyperparameter Tuning"
   ]
  },
  {
   "cell_type": "markdown",
   "id": "facccc0c",
   "metadata": {
    "papermill": {
     "duration": 0.070365,
     "end_time": "2022-02-26T09:26:46.905277",
     "exception": false,
     "start_time": "2022-02-26T09:26:46.834912",
     "status": "completed"
    },
    "tags": []
   },
   "source": [
    "<a id=1></a>\n",
    "## Python Libraries\n",
    "* In this section, we import used libraries during this notebook"
   ]
  },
  {
   "cell_type": "code",
   "execution_count": 1,
   "id": "995b7ea7",
   "metadata": {
    "_cell_guid": "b1076dfc-b9ad-4769-8c92-a6c4dae69d19",
    "_uuid": "8f2839f25d086af736a60e9eeb907d3b93b6e0e5",
    "execution": {
     "iopub.execute_input": "2022-02-26T09:26:47.056721Z",
     "iopub.status.busy": "2022-02-26T09:26:47.051443Z",
     "iopub.status.idle": "2022-02-26T09:26:48.320208Z",
     "shell.execute_reply": "2022-02-26T09:26:48.320980Z",
     "shell.execute_reply.started": "2022-02-26T08:34:26.591779Z"
    },
    "papermill": {
     "duration": 1.345646,
     "end_time": "2022-02-26T09:26:48.321392",
     "exception": false,
     "start_time": "2022-02-26T09:26:46.975746",
     "status": "completed"
    },
    "tags": []
   },
   "outputs": [
    {
     "name": "stdout",
     "output_type": "stream",
     "text": [
      "/kaggle/input/heart-attack-analysis-prediction-dataset/o2Saturation.csv\n",
      "/kaggle/input/heart-attack-analysis-prediction-dataset/heart.csv\n"
     ]
    }
   ],
   "source": [
    "# This Python 3 environment comes with many helpful analytics libraries installed\n",
    "# It is defined by the kaggle/python Docker image: https://github.com/kaggle/docker-python\n",
    "# For example, here's several helpful packages to load\n",
    "\n",
    "import numpy as np # linear algebra\n",
    "import pandas as pd # data processing, CSV file I/O (e.g. pd.read_csv)\n",
    "import matplotlib.pyplot as plt\n",
    "import seaborn as sns\n",
    "# Input data files are available in the read-only \"../input/\" directory\n",
    "# For example, running this (by clicking run or pressing Shift+Enter) will list all files under the input directory\n",
    "\n",
    "import os\n",
    "for dirname, _, filenames in os.walk('/kaggle/input'):\n",
    "    for filename in filenames:\n",
    "        print(os.path.join(dirname, filename))\n",
    "\n",
    "# You can write up to 20GB to the current directory (/kaggle/working/) that gets preserved as output when you create a version using \"Save & Run All\" \n",
    "# You can also write temporary files to /kaggle/temp/, but they won't be saved outside of the current session\n",
    "\n",
    "from sklearn.linear_model import LogisticRegression\n",
    "from sklearn.preprocessing import StandardScaler\n",
    "from sklearn.model_selection import train_test_split, GridSearchCV\n",
    "from sklearn.metrics import accuracy_score, roc_curve\n",
    "\n",
    "import warnings\n",
    "warnings.filterwarnings('ignore')"
   ]
  },
  {
   "cell_type": "markdown",
   "id": "91c9d745",
   "metadata": {
    "papermill": {
     "duration": 0.071813,
     "end_time": "2022-02-26T09:26:48.470243",
     "exception": false,
     "start_time": "2022-02-26T09:26:48.398430",
     "status": "completed"
    },
    "tags": []
   },
   "source": [
    "<a id=2></a>\n",
    "## Data Content\n",
    "\n",
    "\n",
    "* **Age:**  Age of the patient\n",
    "\n",
    "* **Sex:** Sex of the patient\n",
    "\n",
    "* **exang:** exercise induced angina (1 = yes; 0 = no)\n",
    "\n",
    "* **ca:** number of major vessels (0-3)\n",
    "\n",
    "* **cp:** Chest Pain type chest pain type\n",
    "    * Value 1: typical angina\n",
    "    * Value 2: atypical angina\n",
    "    * Value 3: non-anginal pain\n",
    "    * Value 4: asymptomatic\n",
    "\n",
    "* **trtbps:** resting blood pressure (in mm Hg)\n",
    "\n",
    "* **chol:** cholestoral in mg/dl fetched via BMI sensor\n",
    "\n",
    "* **fbs:** (fasting blood sugar > 120 mg/dl) (1 = true; 0 = false)\n",
    "\n",
    "* **rest_ecg:** resting electrocardiographic results\n",
    "    * Value 0: normal\n",
    "    * Value 1: having ST-T wave abnormality (T wave inversions and/or ST elevation or depression of > 0.05 mV)\n",
    "    * Value 2: showing probable or definite left ventricular hypertrophy by Estes' criteria\n",
    "\n",
    "* **thalach:** maximum heart rate achieved\n",
    "\n",
    "* **target:** 0= less chance of heart attack 1= more chance of heart attack \n",
    "\n",
    "* **oldpeak:** ST depression induced by exercise relative to rest (‘ST’ relates to positions on the ECG plot. See more here)\n",
    "* **slp:** the slope of the peak exercise ST segment 0: downsloping; 1: flat; 2: upsloping\n",
    "* **caa:** The number of major vessels (0–3)\n",
    "* **thal:** 3 = normal; 6 = fixed defect; 7 = reversible defect"
   ]
  },
  {
   "cell_type": "markdown",
   "id": "fe845114",
   "metadata": {
    "papermill": {
     "duration": 0.071842,
     "end_time": "2022-02-26T09:26:48.614630",
     "exception": false,
     "start_time": "2022-02-26T09:26:48.542788",
     "status": "completed"
    },
    "tags": []
   },
   "source": [
    "<a id=3></a>\n",
    "## Read and Analyse Data\n",
    "* In this section, we will read heart.csv"
   ]
  },
  {
   "cell_type": "code",
   "execution_count": 2,
   "id": "5eb758f6",
   "metadata": {
    "execution": {
     "iopub.execute_input": "2022-02-26T09:26:48.763981Z",
     "iopub.status.busy": "2022-02-26T09:26:48.763297Z",
     "iopub.status.idle": "2022-02-26T09:26:48.777547Z",
     "shell.execute_reply": "2022-02-26T09:26:48.778145Z",
     "shell.execute_reply.started": "2022-02-26T08:34:26.607387Z"
    },
    "papermill": {
     "duration": 0.091374,
     "end_time": "2022-02-26T09:26:48.778331",
     "exception": false,
     "start_time": "2022-02-26T09:26:48.686957",
     "status": "completed"
    },
    "tags": []
   },
   "outputs": [],
   "source": [
    "#read data\n",
    "df=pd.read_csv('/kaggle/input/heart-attack-analysis-prediction-dataset/heart.csv')"
   ]
  },
  {
   "cell_type": "code",
   "execution_count": 3,
   "id": "281b50c5",
   "metadata": {
    "execution": {
     "iopub.execute_input": "2022-02-26T09:26:48.924815Z",
     "iopub.status.busy": "2022-02-26T09:26:48.924162Z",
     "iopub.status.idle": "2022-02-26T09:26:48.944480Z",
     "shell.execute_reply": "2022-02-26T09:26:48.944998Z",
     "shell.execute_reply.started": "2022-02-26T08:34:26.626921Z"
    },
    "papermill": {
     "duration": 0.095234,
     "end_time": "2022-02-26T09:26:48.945162",
     "exception": false,
     "start_time": "2022-02-26T09:26:48.849928",
     "status": "completed"
    },
    "tags": []
   },
   "outputs": [
    {
     "data": {
      "text/html": [
       "<div>\n",
       "<style scoped>\n",
       "    .dataframe tbody tr th:only-of-type {\n",
       "        vertical-align: middle;\n",
       "    }\n",
       "\n",
       "    .dataframe tbody tr th {\n",
       "        vertical-align: top;\n",
       "    }\n",
       "\n",
       "    .dataframe thead th {\n",
       "        text-align: right;\n",
       "    }\n",
       "</style>\n",
       "<table border=\"1\" class=\"dataframe\">\n",
       "  <thead>\n",
       "    <tr style=\"text-align: right;\">\n",
       "      <th></th>\n",
       "      <th>age</th>\n",
       "      <th>sex</th>\n",
       "      <th>cp</th>\n",
       "      <th>trtbps</th>\n",
       "      <th>chol</th>\n",
       "      <th>fbs</th>\n",
       "      <th>restecg</th>\n",
       "      <th>thalachh</th>\n",
       "      <th>exng</th>\n",
       "      <th>oldpeak</th>\n",
       "      <th>slp</th>\n",
       "      <th>caa</th>\n",
       "      <th>thall</th>\n",
       "      <th>output</th>\n",
       "    </tr>\n",
       "  </thead>\n",
       "  <tbody>\n",
       "    <tr>\n",
       "      <th>0</th>\n",
       "      <td>63</td>\n",
       "      <td>1</td>\n",
       "      <td>3</td>\n",
       "      <td>145</td>\n",
       "      <td>233</td>\n",
       "      <td>1</td>\n",
       "      <td>0</td>\n",
       "      <td>150</td>\n",
       "      <td>0</td>\n",
       "      <td>2.3</td>\n",
       "      <td>0</td>\n",
       "      <td>0</td>\n",
       "      <td>1</td>\n",
       "      <td>1</td>\n",
       "    </tr>\n",
       "    <tr>\n",
       "      <th>1</th>\n",
       "      <td>37</td>\n",
       "      <td>1</td>\n",
       "      <td>2</td>\n",
       "      <td>130</td>\n",
       "      <td>250</td>\n",
       "      <td>0</td>\n",
       "      <td>1</td>\n",
       "      <td>187</td>\n",
       "      <td>0</td>\n",
       "      <td>3.5</td>\n",
       "      <td>0</td>\n",
       "      <td>0</td>\n",
       "      <td>2</td>\n",
       "      <td>1</td>\n",
       "    </tr>\n",
       "    <tr>\n",
       "      <th>2</th>\n",
       "      <td>41</td>\n",
       "      <td>0</td>\n",
       "      <td>1</td>\n",
       "      <td>130</td>\n",
       "      <td>204</td>\n",
       "      <td>0</td>\n",
       "      <td>0</td>\n",
       "      <td>172</td>\n",
       "      <td>0</td>\n",
       "      <td>1.4</td>\n",
       "      <td>2</td>\n",
       "      <td>0</td>\n",
       "      <td>2</td>\n",
       "      <td>1</td>\n",
       "    </tr>\n",
       "    <tr>\n",
       "      <th>3</th>\n",
       "      <td>56</td>\n",
       "      <td>1</td>\n",
       "      <td>1</td>\n",
       "      <td>120</td>\n",
       "      <td>236</td>\n",
       "      <td>0</td>\n",
       "      <td>1</td>\n",
       "      <td>178</td>\n",
       "      <td>0</td>\n",
       "      <td>0.8</td>\n",
       "      <td>2</td>\n",
       "      <td>0</td>\n",
       "      <td>2</td>\n",
       "      <td>1</td>\n",
       "    </tr>\n",
       "    <tr>\n",
       "      <th>4</th>\n",
       "      <td>57</td>\n",
       "      <td>0</td>\n",
       "      <td>0</td>\n",
       "      <td>120</td>\n",
       "      <td>354</td>\n",
       "      <td>0</td>\n",
       "      <td>1</td>\n",
       "      <td>163</td>\n",
       "      <td>1</td>\n",
       "      <td>0.6</td>\n",
       "      <td>2</td>\n",
       "      <td>0</td>\n",
       "      <td>2</td>\n",
       "      <td>1</td>\n",
       "    </tr>\n",
       "  </tbody>\n",
       "</table>\n",
       "</div>"
      ],
      "text/plain": [
       "   age  sex  cp  trtbps  chol  fbs  restecg  thalachh  exng  oldpeak  slp  \\\n",
       "0   63    1   3     145   233    1        0       150     0      2.3    0   \n",
       "1   37    1   2     130   250    0        1       187     0      3.5    0   \n",
       "2   41    0   1     130   204    0        0       172     0      1.4    2   \n",
       "3   56    1   1     120   236    0        1       178     0      0.8    2   \n",
       "4   57    0   0     120   354    0        1       163     1      0.6    2   \n",
       "\n",
       "   caa  thall  output  \n",
       "0    0      1       1  \n",
       "1    0      2       1  \n",
       "2    0      2       1  \n",
       "3    0      2       1  \n",
       "4    0      2       1  "
      ]
     },
     "execution_count": 3,
     "metadata": {},
     "output_type": "execute_result"
    }
   ],
   "source": [
    "df.head()"
   ]
  },
  {
   "cell_type": "code",
   "execution_count": 4,
   "id": "8d147a42",
   "metadata": {
    "execution": {
     "iopub.execute_input": "2022-02-26T09:26:49.106549Z",
     "iopub.status.busy": "2022-02-26T09:26:49.091543Z",
     "iopub.status.idle": "2022-02-26T09:26:49.153105Z",
     "shell.execute_reply": "2022-02-26T09:26:49.152591Z",
     "shell.execute_reply.started": "2022-02-26T08:34:26.645527Z"
    },
    "papermill": {
     "duration": 0.136295,
     "end_time": "2022-02-26T09:26:49.153246",
     "exception": false,
     "start_time": "2022-02-26T09:26:49.016951",
     "status": "completed"
    },
    "tags": []
   },
   "outputs": [
    {
     "data": {
      "text/html": [
       "<div>\n",
       "<style scoped>\n",
       "    .dataframe tbody tr th:only-of-type {\n",
       "        vertical-align: middle;\n",
       "    }\n",
       "\n",
       "    .dataframe tbody tr th {\n",
       "        vertical-align: top;\n",
       "    }\n",
       "\n",
       "    .dataframe thead th {\n",
       "        text-align: right;\n",
       "    }\n",
       "</style>\n",
       "<table border=\"1\" class=\"dataframe\">\n",
       "  <thead>\n",
       "    <tr style=\"text-align: right;\">\n",
       "      <th></th>\n",
       "      <th>count</th>\n",
       "      <th>mean</th>\n",
       "      <th>std</th>\n",
       "      <th>min</th>\n",
       "      <th>25%</th>\n",
       "      <th>50%</th>\n",
       "      <th>75%</th>\n",
       "      <th>max</th>\n",
       "    </tr>\n",
       "  </thead>\n",
       "  <tbody>\n",
       "    <tr>\n",
       "      <th>age</th>\n",
       "      <td>303.0</td>\n",
       "      <td>54.366337</td>\n",
       "      <td>9.082101</td>\n",
       "      <td>29.0</td>\n",
       "      <td>47.5</td>\n",
       "      <td>55.0</td>\n",
       "      <td>61.0</td>\n",
       "      <td>77.0</td>\n",
       "    </tr>\n",
       "    <tr>\n",
       "      <th>sex</th>\n",
       "      <td>303.0</td>\n",
       "      <td>0.683168</td>\n",
       "      <td>0.466011</td>\n",
       "      <td>0.0</td>\n",
       "      <td>0.0</td>\n",
       "      <td>1.0</td>\n",
       "      <td>1.0</td>\n",
       "      <td>1.0</td>\n",
       "    </tr>\n",
       "    <tr>\n",
       "      <th>cp</th>\n",
       "      <td>303.0</td>\n",
       "      <td>0.966997</td>\n",
       "      <td>1.032052</td>\n",
       "      <td>0.0</td>\n",
       "      <td>0.0</td>\n",
       "      <td>1.0</td>\n",
       "      <td>2.0</td>\n",
       "      <td>3.0</td>\n",
       "    </tr>\n",
       "    <tr>\n",
       "      <th>trtbps</th>\n",
       "      <td>303.0</td>\n",
       "      <td>131.623762</td>\n",
       "      <td>17.538143</td>\n",
       "      <td>94.0</td>\n",
       "      <td>120.0</td>\n",
       "      <td>130.0</td>\n",
       "      <td>140.0</td>\n",
       "      <td>200.0</td>\n",
       "    </tr>\n",
       "    <tr>\n",
       "      <th>chol</th>\n",
       "      <td>303.0</td>\n",
       "      <td>246.264026</td>\n",
       "      <td>51.830751</td>\n",
       "      <td>126.0</td>\n",
       "      <td>211.0</td>\n",
       "      <td>240.0</td>\n",
       "      <td>274.5</td>\n",
       "      <td>564.0</td>\n",
       "    </tr>\n",
       "    <tr>\n",
       "      <th>fbs</th>\n",
       "      <td>303.0</td>\n",
       "      <td>0.148515</td>\n",
       "      <td>0.356198</td>\n",
       "      <td>0.0</td>\n",
       "      <td>0.0</td>\n",
       "      <td>0.0</td>\n",
       "      <td>0.0</td>\n",
       "      <td>1.0</td>\n",
       "    </tr>\n",
       "    <tr>\n",
       "      <th>restecg</th>\n",
       "      <td>303.0</td>\n",
       "      <td>0.528053</td>\n",
       "      <td>0.525860</td>\n",
       "      <td>0.0</td>\n",
       "      <td>0.0</td>\n",
       "      <td>1.0</td>\n",
       "      <td>1.0</td>\n",
       "      <td>2.0</td>\n",
       "    </tr>\n",
       "    <tr>\n",
       "      <th>thalachh</th>\n",
       "      <td>303.0</td>\n",
       "      <td>149.646865</td>\n",
       "      <td>22.905161</td>\n",
       "      <td>71.0</td>\n",
       "      <td>133.5</td>\n",
       "      <td>153.0</td>\n",
       "      <td>166.0</td>\n",
       "      <td>202.0</td>\n",
       "    </tr>\n",
       "    <tr>\n",
       "      <th>exng</th>\n",
       "      <td>303.0</td>\n",
       "      <td>0.326733</td>\n",
       "      <td>0.469794</td>\n",
       "      <td>0.0</td>\n",
       "      <td>0.0</td>\n",
       "      <td>0.0</td>\n",
       "      <td>1.0</td>\n",
       "      <td>1.0</td>\n",
       "    </tr>\n",
       "    <tr>\n",
       "      <th>oldpeak</th>\n",
       "      <td>303.0</td>\n",
       "      <td>1.039604</td>\n",
       "      <td>1.161075</td>\n",
       "      <td>0.0</td>\n",
       "      <td>0.0</td>\n",
       "      <td>0.8</td>\n",
       "      <td>1.6</td>\n",
       "      <td>6.2</td>\n",
       "    </tr>\n",
       "    <tr>\n",
       "      <th>slp</th>\n",
       "      <td>303.0</td>\n",
       "      <td>1.399340</td>\n",
       "      <td>0.616226</td>\n",
       "      <td>0.0</td>\n",
       "      <td>1.0</td>\n",
       "      <td>1.0</td>\n",
       "      <td>2.0</td>\n",
       "      <td>2.0</td>\n",
       "    </tr>\n",
       "    <tr>\n",
       "      <th>caa</th>\n",
       "      <td>303.0</td>\n",
       "      <td>0.729373</td>\n",
       "      <td>1.022606</td>\n",
       "      <td>0.0</td>\n",
       "      <td>0.0</td>\n",
       "      <td>0.0</td>\n",
       "      <td>1.0</td>\n",
       "      <td>4.0</td>\n",
       "    </tr>\n",
       "    <tr>\n",
       "      <th>thall</th>\n",
       "      <td>303.0</td>\n",
       "      <td>2.313531</td>\n",
       "      <td>0.612277</td>\n",
       "      <td>0.0</td>\n",
       "      <td>2.0</td>\n",
       "      <td>2.0</td>\n",
       "      <td>3.0</td>\n",
       "      <td>3.0</td>\n",
       "    </tr>\n",
       "    <tr>\n",
       "      <th>output</th>\n",
       "      <td>303.0</td>\n",
       "      <td>0.544554</td>\n",
       "      <td>0.498835</td>\n",
       "      <td>0.0</td>\n",
       "      <td>0.0</td>\n",
       "      <td>1.0</td>\n",
       "      <td>1.0</td>\n",
       "      <td>1.0</td>\n",
       "    </tr>\n",
       "  </tbody>\n",
       "</table>\n",
       "</div>"
      ],
      "text/plain": [
       "          count        mean        std    min    25%    50%    75%    max\n",
       "age       303.0   54.366337   9.082101   29.0   47.5   55.0   61.0   77.0\n",
       "sex       303.0    0.683168   0.466011    0.0    0.0    1.0    1.0    1.0\n",
       "cp        303.0    0.966997   1.032052    0.0    0.0    1.0    2.0    3.0\n",
       "trtbps    303.0  131.623762  17.538143   94.0  120.0  130.0  140.0  200.0\n",
       "chol      303.0  246.264026  51.830751  126.0  211.0  240.0  274.5  564.0\n",
       "fbs       303.0    0.148515   0.356198    0.0    0.0    0.0    0.0    1.0\n",
       "restecg   303.0    0.528053   0.525860    0.0    0.0    1.0    1.0    2.0\n",
       "thalachh  303.0  149.646865  22.905161   71.0  133.5  153.0  166.0  202.0\n",
       "exng      303.0    0.326733   0.469794    0.0    0.0    0.0    1.0    1.0\n",
       "oldpeak   303.0    1.039604   1.161075    0.0    0.0    0.8    1.6    6.2\n",
       "slp       303.0    1.399340   0.616226    0.0    1.0    1.0    2.0    2.0\n",
       "caa       303.0    0.729373   1.022606    0.0    0.0    0.0    1.0    4.0\n",
       "thall     303.0    2.313531   0.612277    0.0    2.0    2.0    3.0    3.0\n",
       "output    303.0    0.544554   0.498835    0.0    0.0    1.0    1.0    1.0"
      ]
     },
     "execution_count": 4,
     "metadata": {},
     "output_type": "execute_result"
    }
   ],
   "source": [
    "##basic statistics of data\n",
    "df.describe().T"
   ]
  },
  {
   "cell_type": "code",
   "execution_count": 5,
   "id": "f8429e4a",
   "metadata": {
    "execution": {
     "iopub.execute_input": "2022-02-26T09:26:49.302629Z",
     "iopub.status.busy": "2022-02-26T09:26:49.302005Z",
     "iopub.status.idle": "2022-02-26T09:26:49.314418Z",
     "shell.execute_reply": "2022-02-26T09:26:49.314997Z",
     "shell.execute_reply.started": "2022-02-26T08:34:26.707936Z"
    },
    "papermill": {
     "duration": 0.089621,
     "end_time": "2022-02-26T09:26:49.315160",
     "exception": false,
     "start_time": "2022-02-26T09:26:49.225539",
     "status": "completed"
    },
    "tags": []
   },
   "outputs": [
    {
     "name": "stdout",
     "output_type": "stream",
     "text": [
      "<class 'pandas.core.frame.DataFrame'>\n",
      "RangeIndex: 303 entries, 0 to 302\n",
      "Data columns (total 14 columns):\n",
      " #   Column    Non-Null Count  Dtype  \n",
      "---  ------    --------------  -----  \n",
      " 0   age       303 non-null    int64  \n",
      " 1   sex       303 non-null    int64  \n",
      " 2   cp        303 non-null    int64  \n",
      " 3   trtbps    303 non-null    int64  \n",
      " 4   chol      303 non-null    int64  \n",
      " 5   fbs       303 non-null    int64  \n",
      " 6   restecg   303 non-null    int64  \n",
      " 7   thalachh  303 non-null    int64  \n",
      " 8   exng      303 non-null    int64  \n",
      " 9   oldpeak   303 non-null    float64\n",
      " 10  slp       303 non-null    int64  \n",
      " 11  caa       303 non-null    int64  \n",
      " 12  thall     303 non-null    int64  \n",
      " 13  output    303 non-null    int64  \n",
      "dtypes: float64(1), int64(13)\n",
      "memory usage: 33.3 KB\n"
     ]
    }
   ],
   "source": [
    "#information about dataframe\n",
    "df.info()\n",
    "#There is no missing value in this dataset"
   ]
  },
  {
   "cell_type": "markdown",
   "id": "b2993969",
   "metadata": {
    "papermill": {
     "duration": 0.072236,
     "end_time": "2022-02-26T09:26:49.460255",
     "exception": false,
     "start_time": "2022-02-26T09:26:49.388019",
     "status": "completed"
    },
    "tags": []
   },
   "source": [
    "<a id=4></a>\n",
    "## Missing Value Analysis"
   ]
  },
  {
   "cell_type": "code",
   "execution_count": 6,
   "id": "d1d8f39b",
   "metadata": {
    "execution": {
     "iopub.execute_input": "2022-02-26T09:26:49.608745Z",
     "iopub.status.busy": "2022-02-26T09:26:49.608143Z",
     "iopub.status.idle": "2022-02-26T09:26:49.632385Z",
     "shell.execute_reply": "2022-02-26T09:26:49.632971Z",
     "shell.execute_reply.started": "2022-02-26T08:34:26.724155Z"
    },
    "papermill": {
     "duration": 0.100171,
     "end_time": "2022-02-26T09:26:49.633138",
     "exception": false,
     "start_time": "2022-02-26T09:26:49.532967",
     "status": "completed"
    },
    "tags": []
   },
   "outputs": [
    {
     "data": {
      "text/html": [
       "<div>\n",
       "<style scoped>\n",
       "    .dataframe tbody tr th:only-of-type {\n",
       "        vertical-align: middle;\n",
       "    }\n",
       "\n",
       "    .dataframe tbody tr th {\n",
       "        vertical-align: top;\n",
       "    }\n",
       "\n",
       "    .dataframe thead th {\n",
       "        text-align: right;\n",
       "    }\n",
       "</style>\n",
       "<table border=\"1\" class=\"dataframe\">\n",
       "  <thead>\n",
       "    <tr style=\"text-align: right;\">\n",
       "      <th></th>\n",
       "      <th>age</th>\n",
       "      <th>sex</th>\n",
       "      <th>cp</th>\n",
       "      <th>trtbps</th>\n",
       "      <th>chol</th>\n",
       "      <th>fbs</th>\n",
       "      <th>restecg</th>\n",
       "      <th>thalachh</th>\n",
       "      <th>exng</th>\n",
       "      <th>oldpeak</th>\n",
       "      <th>slp</th>\n",
       "      <th>caa</th>\n",
       "      <th>thall</th>\n",
       "      <th>output</th>\n",
       "    </tr>\n",
       "  </thead>\n",
       "  <tbody>\n",
       "    <tr>\n",
       "      <th>0</th>\n",
       "      <td>False</td>\n",
       "      <td>False</td>\n",
       "      <td>False</td>\n",
       "      <td>False</td>\n",
       "      <td>False</td>\n",
       "      <td>False</td>\n",
       "      <td>False</td>\n",
       "      <td>False</td>\n",
       "      <td>False</td>\n",
       "      <td>False</td>\n",
       "      <td>False</td>\n",
       "      <td>False</td>\n",
       "      <td>False</td>\n",
       "      <td>False</td>\n",
       "    </tr>\n",
       "    <tr>\n",
       "      <th>1</th>\n",
       "      <td>False</td>\n",
       "      <td>False</td>\n",
       "      <td>False</td>\n",
       "      <td>False</td>\n",
       "      <td>False</td>\n",
       "      <td>False</td>\n",
       "      <td>False</td>\n",
       "      <td>False</td>\n",
       "      <td>False</td>\n",
       "      <td>False</td>\n",
       "      <td>False</td>\n",
       "      <td>False</td>\n",
       "      <td>False</td>\n",
       "      <td>False</td>\n",
       "    </tr>\n",
       "    <tr>\n",
       "      <th>2</th>\n",
       "      <td>False</td>\n",
       "      <td>False</td>\n",
       "      <td>False</td>\n",
       "      <td>False</td>\n",
       "      <td>False</td>\n",
       "      <td>False</td>\n",
       "      <td>False</td>\n",
       "      <td>False</td>\n",
       "      <td>False</td>\n",
       "      <td>False</td>\n",
       "      <td>False</td>\n",
       "      <td>False</td>\n",
       "      <td>False</td>\n",
       "      <td>False</td>\n",
       "    </tr>\n",
       "    <tr>\n",
       "      <th>3</th>\n",
       "      <td>False</td>\n",
       "      <td>False</td>\n",
       "      <td>False</td>\n",
       "      <td>False</td>\n",
       "      <td>False</td>\n",
       "      <td>False</td>\n",
       "      <td>False</td>\n",
       "      <td>False</td>\n",
       "      <td>False</td>\n",
       "      <td>False</td>\n",
       "      <td>False</td>\n",
       "      <td>False</td>\n",
       "      <td>False</td>\n",
       "      <td>False</td>\n",
       "    </tr>\n",
       "    <tr>\n",
       "      <th>4</th>\n",
       "      <td>False</td>\n",
       "      <td>False</td>\n",
       "      <td>False</td>\n",
       "      <td>False</td>\n",
       "      <td>False</td>\n",
       "      <td>False</td>\n",
       "      <td>False</td>\n",
       "      <td>False</td>\n",
       "      <td>False</td>\n",
       "      <td>False</td>\n",
       "      <td>False</td>\n",
       "      <td>False</td>\n",
       "      <td>False</td>\n",
       "      <td>False</td>\n",
       "    </tr>\n",
       "    <tr>\n",
       "      <th>...</th>\n",
       "      <td>...</td>\n",
       "      <td>...</td>\n",
       "      <td>...</td>\n",
       "      <td>...</td>\n",
       "      <td>...</td>\n",
       "      <td>...</td>\n",
       "      <td>...</td>\n",
       "      <td>...</td>\n",
       "      <td>...</td>\n",
       "      <td>...</td>\n",
       "      <td>...</td>\n",
       "      <td>...</td>\n",
       "      <td>...</td>\n",
       "      <td>...</td>\n",
       "    </tr>\n",
       "    <tr>\n",
       "      <th>298</th>\n",
       "      <td>False</td>\n",
       "      <td>False</td>\n",
       "      <td>False</td>\n",
       "      <td>False</td>\n",
       "      <td>False</td>\n",
       "      <td>False</td>\n",
       "      <td>False</td>\n",
       "      <td>False</td>\n",
       "      <td>False</td>\n",
       "      <td>False</td>\n",
       "      <td>False</td>\n",
       "      <td>False</td>\n",
       "      <td>False</td>\n",
       "      <td>False</td>\n",
       "    </tr>\n",
       "    <tr>\n",
       "      <th>299</th>\n",
       "      <td>False</td>\n",
       "      <td>False</td>\n",
       "      <td>False</td>\n",
       "      <td>False</td>\n",
       "      <td>False</td>\n",
       "      <td>False</td>\n",
       "      <td>False</td>\n",
       "      <td>False</td>\n",
       "      <td>False</td>\n",
       "      <td>False</td>\n",
       "      <td>False</td>\n",
       "      <td>False</td>\n",
       "      <td>False</td>\n",
       "      <td>False</td>\n",
       "    </tr>\n",
       "    <tr>\n",
       "      <th>300</th>\n",
       "      <td>False</td>\n",
       "      <td>False</td>\n",
       "      <td>False</td>\n",
       "      <td>False</td>\n",
       "      <td>False</td>\n",
       "      <td>False</td>\n",
       "      <td>False</td>\n",
       "      <td>False</td>\n",
       "      <td>False</td>\n",
       "      <td>False</td>\n",
       "      <td>False</td>\n",
       "      <td>False</td>\n",
       "      <td>False</td>\n",
       "      <td>False</td>\n",
       "    </tr>\n",
       "    <tr>\n",
       "      <th>301</th>\n",
       "      <td>False</td>\n",
       "      <td>False</td>\n",
       "      <td>False</td>\n",
       "      <td>False</td>\n",
       "      <td>False</td>\n",
       "      <td>False</td>\n",
       "      <td>False</td>\n",
       "      <td>False</td>\n",
       "      <td>False</td>\n",
       "      <td>False</td>\n",
       "      <td>False</td>\n",
       "      <td>False</td>\n",
       "      <td>False</td>\n",
       "      <td>False</td>\n",
       "    </tr>\n",
       "    <tr>\n",
       "      <th>302</th>\n",
       "      <td>False</td>\n",
       "      <td>False</td>\n",
       "      <td>False</td>\n",
       "      <td>False</td>\n",
       "      <td>False</td>\n",
       "      <td>False</td>\n",
       "      <td>False</td>\n",
       "      <td>False</td>\n",
       "      <td>False</td>\n",
       "      <td>False</td>\n",
       "      <td>False</td>\n",
       "      <td>False</td>\n",
       "      <td>False</td>\n",
       "      <td>False</td>\n",
       "    </tr>\n",
       "  </tbody>\n",
       "</table>\n",
       "<p>303 rows × 14 columns</p>\n",
       "</div>"
      ],
      "text/plain": [
       "       age    sex     cp  trtbps   chol    fbs  restecg  thalachh   exng  \\\n",
       "0    False  False  False   False  False  False    False     False  False   \n",
       "1    False  False  False   False  False  False    False     False  False   \n",
       "2    False  False  False   False  False  False    False     False  False   \n",
       "3    False  False  False   False  False  False    False     False  False   \n",
       "4    False  False  False   False  False  False    False     False  False   \n",
       "..     ...    ...    ...     ...    ...    ...      ...       ...    ...   \n",
       "298  False  False  False   False  False  False    False     False  False   \n",
       "299  False  False  False   False  False  False    False     False  False   \n",
       "300  False  False  False   False  False  False    False     False  False   \n",
       "301  False  False  False   False  False  False    False     False  False   \n",
       "302  False  False  False   False  False  False    False     False  False   \n",
       "\n",
       "     oldpeak    slp    caa  thall  output  \n",
       "0      False  False  False  False   False  \n",
       "1      False  False  False  False   False  \n",
       "2      False  False  False  False   False  \n",
       "3      False  False  False  False   False  \n",
       "4      False  False  False  False   False  \n",
       "..       ...    ...    ...    ...     ...  \n",
       "298    False  False  False  False   False  \n",
       "299    False  False  False  False   False  \n",
       "300    False  False  False  False   False  \n",
       "301    False  False  False  False   False  \n",
       "302    False  False  False  False   False  \n",
       "\n",
       "[303 rows x 14 columns]"
      ]
     },
     "execution_count": 6,
     "metadata": {},
     "output_type": "execute_result"
    }
   ],
   "source": [
    "#we cannot train our model with missing values\n",
    "#so we check whether there is missing value or not\n",
    "#we will use logistic regression and we will assing weight to each feature\n",
    "df.isnull()\n"
   ]
  },
  {
   "cell_type": "code",
   "execution_count": 7,
   "id": "b8ca4257",
   "metadata": {
    "execution": {
     "iopub.execute_input": "2022-02-26T09:26:49.783425Z",
     "iopub.status.busy": "2022-02-26T09:26:49.782839Z",
     "iopub.status.idle": "2022-02-26T09:26:49.789547Z",
     "shell.execute_reply": "2022-02-26T09:26:49.790110Z",
     "shell.execute_reply.started": "2022-02-26T08:34:26.757157Z"
    },
    "papermill": {
     "duration": 0.083128,
     "end_time": "2022-02-26T09:26:49.790285",
     "exception": false,
     "start_time": "2022-02-26T09:26:49.707157",
     "status": "completed"
    },
    "tags": []
   },
   "outputs": [
    {
     "data": {
      "text/plain": [
       "age         0\n",
       "sex         0\n",
       "cp          0\n",
       "trtbps      0\n",
       "chol        0\n",
       "fbs         0\n",
       "restecg     0\n",
       "thalachh    0\n",
       "exng        0\n",
       "oldpeak     0\n",
       "slp         0\n",
       "caa         0\n",
       "thall       0\n",
       "output      0\n",
       "dtype: int64"
      ]
     },
     "execution_count": 7,
     "metadata": {},
     "output_type": "execute_result"
    }
   ],
   "source": [
    "#missing value\n",
    "df.isnull().sum()"
   ]
  },
  {
   "cell_type": "markdown",
   "id": "08abdd46",
   "metadata": {
    "papermill": {
     "duration": 0.0741,
     "end_time": "2022-02-26T09:26:49.938534",
     "exception": false,
     "start_time": "2022-02-26T09:26:49.864434",
     "status": "completed"
    },
    "tags": []
   },
   "source": [
    "<a id=5></a>\n",
    "## Unique Value Analysis"
   ]
  },
  {
   "cell_type": "code",
   "execution_count": 8,
   "id": "1a66b2c3",
   "metadata": {
    "execution": {
     "iopub.execute_input": "2022-02-26T09:26:50.093720Z",
     "iopub.status.busy": "2022-02-26T09:26:50.093096Z",
     "iopub.status.idle": "2022-02-26T09:26:50.097663Z",
     "shell.execute_reply": "2022-02-26T09:26:50.098274Z",
     "shell.execute_reply.started": "2022-02-26T08:34:26.768543Z"
    },
    "papermill": {
     "duration": 0.084117,
     "end_time": "2022-02-26T09:26:50.098436",
     "exception": false,
     "start_time": "2022-02-26T09:26:50.014319",
     "status": "completed"
    },
    "tags": []
   },
   "outputs": [
    {
     "data": {
      "text/plain": [
       "Index(['age', 'sex', 'cp', 'trtbps', 'chol', 'fbs', 'restecg', 'thalachh',\n",
       "       'exng', 'oldpeak', 'slp', 'caa', 'thall', 'output'],\n",
       "      dtype='object')"
      ]
     },
     "execution_count": 8,
     "metadata": {},
     "output_type": "execute_result"
    }
   ],
   "source": [
    "df.columns"
   ]
  },
  {
   "cell_type": "code",
   "execution_count": 9,
   "id": "32493e4f",
   "metadata": {
    "execution": {
     "iopub.execute_input": "2022-02-26T09:26:50.251035Z",
     "iopub.status.busy": "2022-02-26T09:26:50.250421Z",
     "iopub.status.idle": "2022-02-26T09:26:50.257382Z",
     "shell.execute_reply": "2022-02-26T09:26:50.256774Z",
     "shell.execute_reply.started": "2022-02-26T08:34:26.786921Z"
    },
    "papermill": {
     "duration": 0.084376,
     "end_time": "2022-02-26T09:26:50.257517",
     "exception": false,
     "start_time": "2022-02-26T09:26:50.173141",
     "status": "completed"
    },
    "tags": []
   },
   "outputs": [
    {
     "data": {
      "text/plain": [
       "1    207\n",
       "0     96\n",
       "Name: sex, dtype: int64"
      ]
     },
     "execution_count": 9,
     "metadata": {},
     "output_type": "execute_result"
    }
   ],
   "source": [
    "df['sex'].value_counts()"
   ]
  },
  {
   "cell_type": "code",
   "execution_count": 10,
   "id": "4604c39e",
   "metadata": {
    "execution": {
     "iopub.execute_input": "2022-02-26T09:26:50.414928Z",
     "iopub.status.busy": "2022-02-26T09:26:50.414306Z",
     "iopub.status.idle": "2022-02-26T09:26:50.417136Z",
     "shell.execute_reply": "2022-02-26T09:26:50.417619Z",
     "shell.execute_reply.started": "2022-02-26T08:34:26.801863Z"
    },
    "papermill": {
     "duration": 0.084334,
     "end_time": "2022-02-26T09:26:50.417787",
     "exception": false,
     "start_time": "2022-02-26T09:26:50.333453",
     "status": "completed"
    },
    "tags": []
   },
   "outputs": [
    {
     "data": {
      "text/plain": [
       "2"
      ]
     },
     "execution_count": 10,
     "metadata": {},
     "output_type": "execute_result"
    }
   ],
   "source": [
    "#how many unique value in 'sex'\n",
    "df['sex'].value_counts().shape[0]"
   ]
  },
  {
   "cell_type": "code",
   "execution_count": 11,
   "id": "21c0d25c",
   "metadata": {
    "execution": {
     "iopub.execute_input": "2022-02-26T09:26:50.572138Z",
     "iopub.status.busy": "2022-02-26T09:26:50.571152Z",
     "iopub.status.idle": "2022-02-26T09:26:50.586483Z",
     "shell.execute_reply": "2022-02-26T09:26:50.587218Z",
     "shell.execute_reply.started": "2022-02-26T08:34:26.815646Z"
    },
    "papermill": {
     "duration": 0.094364,
     "end_time": "2022-02-26T09:26:50.587443",
     "exception": false,
     "start_time": "2022-02-26T09:26:50.493079",
     "status": "completed"
    },
    "tags": []
   },
   "outputs": [
    {
     "name": "stdout",
     "output_type": "stream",
     "text": [
      "age--41\n",
      "sex--2\n",
      "cp--4\n",
      "trtbps--49\n",
      "chol--152\n",
      "fbs--2\n",
      "restecg--3\n",
      "thalachh--91\n",
      "exng--2\n",
      "oldpeak--40\n",
      "slp--3\n",
      "caa--5\n",
      "thall--4\n",
      "output--2\n"
     ]
    }
   ],
   "source": [
    "#we will print counts of unique values of each feature\n",
    "for i in list(df.columns):\n",
    "    print(\"{}--{}\".format(i, df[i].value_counts().shape[0]))"
   ]
  },
  {
   "cell_type": "markdown",
   "id": "229522cd",
   "metadata": {
    "papermill": {
     "duration": 0.075656,
     "end_time": "2022-02-26T09:26:50.739399",
     "exception": false,
     "start_time": "2022-02-26T09:26:50.663743",
     "status": "completed"
    },
    "tags": []
   },
   "source": [
    "* sex, cp, fbs, restecg, exng, slp, caa, thall and output are categoric variables\n",
    "* We analyzed numeric and categoric variables because:\n",
    "    * Numeric and categoric variables are visualized by different methods\n",
    "    * when we train our ml model, we will change format our categoric variables by encoding methods"
   ]
  },
  {
   "cell_type": "markdown",
   "id": "71617b77",
   "metadata": {
    "papermill": {
     "duration": 0.074652,
     "end_time": "2022-02-26T09:26:50.889864",
     "exception": false,
     "start_time": "2022-02-26T09:26:50.815212",
     "status": "completed"
    },
    "tags": []
   },
   "source": [
    "<a id=6></a>\n",
    "## Categorical Feature Analysis"
   ]
  },
  {
   "cell_type": "code",
   "execution_count": 12,
   "id": "0e7458ef",
   "metadata": {
    "execution": {
     "iopub.execute_input": "2022-02-26T09:26:51.044672Z",
     "iopub.status.busy": "2022-02-26T09:26:51.044026Z",
     "iopub.status.idle": "2022-02-26T09:26:51.047300Z",
     "shell.execute_reply": "2022-02-26T09:26:51.047894Z",
     "shell.execute_reply.started": "2022-02-26T08:34:26.835290Z"
    },
    "papermill": {
     "duration": 0.082815,
     "end_time": "2022-02-26T09:26:51.048049",
     "exception": false,
     "start_time": "2022-02-26T09:26:50.965234",
     "status": "completed"
    },
    "tags": []
   },
   "outputs": [],
   "source": [
    "categorical_list=[\"sex\", \"cp\", \"fbs\", \"restecg\", \"exng\", \"slp\", \"caa\", \"thall\",\"output\"]"
   ]
  },
  {
   "cell_type": "code",
   "execution_count": 13,
   "id": "18fef248",
   "metadata": {
    "execution": {
     "iopub.execute_input": "2022-02-26T09:26:51.204638Z",
     "iopub.status.busy": "2022-02-26T09:26:51.204022Z",
     "iopub.status.idle": "2022-02-26T09:26:52.970831Z",
     "shell.execute_reply": "2022-02-26T09:26:52.970277Z",
     "shell.execute_reply.started": "2022-02-26T08:34:26.841919Z"
    },
    "papermill": {
     "duration": 1.84618,
     "end_time": "2022-02-26T09:26:52.970969",
     "exception": false,
     "start_time": "2022-02-26T09:26:51.124789",
     "status": "completed"
    },
    "tags": []
   },
   "outputs": [
    {
     "data": {
      "image/png": "[encoded data removed]",
      "text/plain": [
       "<Figure size 432x288 with 1 Axes>"
      ]
     },
     "metadata": {
      "needs_background": "light"
     },
     "output_type": "display_data"
    },
    {
     "data": {
      "image/png": "[encoded data removed]",
      "text/plain": [
       "<Figure size 432x288 with 1 Axes>"
      ]
     },
     "metadata": {
      "needs_background": "light"
     },
     "output_type": "display_data"
    },
    {
     "data": {
      "image/png": "[encoded data removed]",
      "text/plain": [
       "<Figure size 432x288 with 1 Axes>"
      ]
     },
     "metadata": {
      "needs_background": "light"
     },
     "output_type": "display_data"
    },
    {
     "data": {
      "image/png": "[encoded data removed]",
      "text/plain": [
       "<Figure size 432x288 with 1 Axes>"
      ]
     },
     "metadata": {
      "needs_background": "light"
     },
     "output_type": "display_data"
    },
    {
     "data": {
      "image/png": "[encoded data removed]",
      "text/plain": [
       "<Figure size 432x288 with 1 Axes>"
      ]
     },
     "metadata": {
      "needs_background": "light"
     },
     "output_type": "display_data"
    },
    {
     "data": {
      "image/png": "[encoded data removed]",
      "text/plain": [
       "<Figure size 432x288 with 1 Axes>"
      ]
     },
     "metadata": {
      "needs_background": "light"
     },
     "output_type": "display_data"
    },
    {
     "data": {
      "image/png": "[encoded data removed]",
      "text/plain": [
       "<Figure size 432x288 with 1 Axes>"
      ]
     },
     "metadata": {
      "needs_background": "light"
     },
     "output_type": "display_data"
    },
    {
     "data": {
      "image/png": "[encoded data removed]",
      "text/plain": [
       "<Figure size 432x288 with 1 Axes>"
      ]
     },
     "metadata": {
      "needs_background": "light"
     },
     "output_type": "display_data"
    },
    {
     "data": {
      "image/png": "[encoded data removed]",
      "text/plain": [
       "<Figure size 432x288 with 1 Axes>"
      ]
     },
     "metadata": {
      "needs_background": "light"
     },
     "output_type": "display_data"
    }
   ],
   "source": [
    "#hue is our class. That is we will visualize according to output\n",
    "df_categoric=df.loc[:,categorical_list]\n",
    "for i in categorical_list:\n",
    "    plt.figure()\n",
    "    sns.countplot(x=i, data=df_categoric, hue=\"output\")\n",
    "    plt.title(i)"
   ]
  },
  {
   "cell_type": "markdown",
   "id": "6a728e1b",
   "metadata": {
    "papermill": {
     "duration": 0.082431,
     "end_time": "2022-02-26T09:26:53.136910",
     "exception": false,
     "start_time": "2022-02-26T09:26:53.054479",
     "status": "completed"
    },
    "tags": []
   },
   "source": [
    "<a id=6></a>\n",
    "## Numeric Feature Analysis\n",
    "* Bivariate data analysis with scatter plot"
   ]
  },
  {
   "cell_type": "code",
   "execution_count": 14,
   "id": "f1b417b7",
   "metadata": {
    "execution": {
     "iopub.execute_input": "2022-02-26T09:26:53.307441Z",
     "iopub.status.busy": "2022-02-26T09:26:53.306518Z",
     "iopub.status.idle": "2022-02-26T09:26:53.309321Z",
     "shell.execute_reply": "2022-02-26T09:26:53.308694Z",
     "shell.execute_reply.started": "2022-02-26T08:34:28.441846Z"
    },
    "papermill": {
     "duration": 0.089674,
     "end_time": "2022-02-26T09:26:53.309454",
     "exception": false,
     "start_time": "2022-02-26T09:26:53.219780",
     "status": "completed"
    },
    "tags": []
   },
   "outputs": [],
   "source": [
    "numeric_list=[\"age\", \"trtbps\", \"chol\", \"thalachh\", \"oldpeak\", \"output\"]"
   ]
  },
  {
   "cell_type": "code",
   "execution_count": 15,
   "id": "70ea9a55",
   "metadata": {
    "execution": {
     "iopub.execute_input": "2022-02-26T09:26:53.479991Z",
     "iopub.status.busy": "2022-02-26T09:26:53.479025Z",
     "iopub.status.idle": "2022-02-26T09:27:00.088674Z",
     "shell.execute_reply": "2022-02-26T09:27:00.089197Z",
     "shell.execute_reply.started": "2022-02-26T08:34:28.448162Z"
    },
    "papermill": {
     "duration": 6.696065,
     "end_time": "2022-02-26T09:27:00.089369",
     "exception": false,
     "start_time": "2022-02-26T09:26:53.393304",
     "status": "completed"
    },
    "tags": []
   },
   "outputs": [
    {
     "data": {
      "image/png": "[encoded data removed]",
      "text/plain": [
       "<Figure size 942.375x900 with 30 Axes>"
      ]
     },
     "metadata": {
      "needs_background": "light"
     },
     "output_type": "display_data"
    }
   ],
   "source": [
    "#in graph diagonal we used kernel density estimation that is kde\n",
    "df_numeric=df.loc[:,numeric_list]\n",
    "sns.pairplot(df_numeric,hue=\"output\", diag_kind=\"kde\")\n",
    "plt.show()"
   ]
  },
  {
   "cell_type": "markdown",
   "id": "c22214a6",
   "metadata": {
    "papermill": {
     "duration": 0.094248,
     "end_time": "2022-02-26T09:27:00.278447",
     "exception": false,
     "start_time": "2022-02-26T09:27:00.184199",
     "status": "completed"
    },
    "tags": []
   },
   "source": [
    "* each row and column has numeric features and the diagonal has a distribution of these features.\n",
    "* The relationship of each numerical feature to each other is shown with a scatter plot. \n",
    "* oldpeak has positive skewness \n",
    "* thalachh has negative skewness \n",
    "* the important thing is correlations of features. We want them not to be correlated with each other. Because if two features are very related to each other, one of these features is sufficient for us. \n",
    "* if there is no correlation, each is a different source of information for us. "
   ]
  },
  {
   "cell_type": "markdown",
   "id": "8ad2c316",
   "metadata": {
    "papermill": {
     "duration": 0.093854,
     "end_time": "2022-02-26T09:27:00.467284",
     "exception": false,
     "start_time": "2022-02-26T09:27:00.373430",
     "status": "completed"
    },
    "tags": []
   },
   "source": [
    "<a id=8></a>\n",
    "## Standardization\n",
    "* standardization makes data visualization easier\n",
    "* It allows the ml algorithm to train better."
   ]
  },
  {
   "cell_type": "code",
   "execution_count": 16,
   "id": "4b1671dc",
   "metadata": {
    "execution": {
     "iopub.execute_input": "2022-02-26T09:27:00.665030Z",
     "iopub.status.busy": "2022-02-26T09:27:00.664349Z",
     "iopub.status.idle": "2022-02-26T09:27:00.669489Z",
     "shell.execute_reply": "2022-02-26T09:27:00.669976Z",
     "shell.execute_reply.started": "2022-02-26T08:34:35.339081Z"
    },
    "papermill": {
     "duration": 0.10622,
     "end_time": "2022-02-26T09:27:00.670144",
     "exception": false,
     "start_time": "2022-02-26T09:27:00.563924",
     "status": "completed"
    },
    "tags": []
   },
   "outputs": [
    {
     "data": {
      "text/plain": [
       "StandardScaler()"
      ]
     },
     "execution_count": 16,
     "metadata": {},
     "output_type": "execute_result"
    }
   ],
   "source": [
    "#first we initialize a scaler\n",
    "scaler=StandardScaler()\n",
    "scaler"
   ]
  },
  {
   "cell_type": "code",
   "execution_count": 17,
   "id": "a6e80a10",
   "metadata": {
    "execution": {
     "iopub.execute_input": "2022-02-26T09:27:00.870232Z",
     "iopub.status.busy": "2022-02-26T09:27:00.869565Z",
     "iopub.status.idle": "2022-02-26T09:27:00.872248Z",
     "shell.execute_reply": "2022-02-26T09:27:00.871682Z",
     "shell.execute_reply.started": "2022-02-26T08:34:35.346626Z"
    },
    "papermill": {
     "duration": 0.107439,
     "end_time": "2022-02-26T09:27:00.872385",
     "exception": false,
     "start_time": "2022-02-26T09:27:00.764946",
     "status": "completed"
    },
    "tags": []
   },
   "outputs": [],
   "source": [
    "#we will standard numerical features except output\n",
    "scaled_array=scaler.fit_transform(df[numeric_list[:-1]])"
   ]
  },
  {
   "cell_type": "code",
   "execution_count": 18,
   "id": "cf40f2f2",
   "metadata": {
    "execution": {
     "iopub.execute_input": "2022-02-26T09:27:01.068866Z",
     "iopub.status.busy": "2022-02-26T09:27:01.068177Z",
     "iopub.status.idle": "2022-02-26T09:27:01.070733Z",
     "shell.execute_reply": "2022-02-26T09:27:01.071240Z",
     "shell.execute_reply.started": "2022-02-26T08:34:35.364408Z"
    },
    "papermill": {
     "duration": 0.104183,
     "end_time": "2022-02-26T09:27:01.071413",
     "exception": false,
     "start_time": "2022-02-26T09:27:00.967230",
     "status": "completed"
    },
    "tags": []
   },
   "outputs": [
    {
     "data": {
      "text/plain": [
       "array([[ 0.9521966 ,  0.76395577, -0.25633371,  0.01544279,  1.08733806],\n",
       "       [-1.91531289, -0.09273778,  0.07219949,  1.63347147,  2.12257273],\n",
       "       [-1.47415758, -0.09273778, -0.81677269,  0.97751389,  0.31091206],\n",
       "       ...,\n",
       "       [ 1.50364073,  0.70684287, -1.029353  , -0.37813176,  2.03630317],\n",
       "       [ 0.29046364, -0.09273778, -2.2275329 , -1.51512489,  0.13837295],\n",
       "       [ 0.29046364, -0.09273778, -0.19835726,  1.0649749 , -0.89686172]])"
      ]
     },
     "execution_count": 18,
     "metadata": {},
     "output_type": "execute_result"
    }
   ],
   "source": [
    "scaled_array"
   ]
  },
  {
   "cell_type": "code",
   "execution_count": 19,
   "id": "f8a85944",
   "metadata": {
    "execution": {
     "iopub.execute_input": "2022-02-26T09:27:01.274718Z",
     "iopub.status.busy": "2022-02-26T09:27:01.272783Z",
     "iopub.status.idle": "2022-02-26T09:27:01.295021Z",
     "shell.execute_reply": "2022-02-26T09:27:01.294500Z",
     "shell.execute_reply.started": "2022-02-26T08:34:35.383454Z"
    },
    "papermill": {
     "duration": 0.12743,
     "end_time": "2022-02-26T09:27:01.295184",
     "exception": false,
     "start_time": "2022-02-26T09:27:01.167754",
     "status": "completed"
    },
    "tags": []
   },
   "outputs": [
    {
     "data": {
      "text/html": [
       "<div>\n",
       "<style scoped>\n",
       "    .dataframe tbody tr th:only-of-type {\n",
       "        vertical-align: middle;\n",
       "    }\n",
       "\n",
       "    .dataframe tbody tr th {\n",
       "        vertical-align: top;\n",
       "    }\n",
       "\n",
       "    .dataframe thead th {\n",
       "        text-align: right;\n",
       "    }\n",
       "</style>\n",
       "<table border=\"1\" class=\"dataframe\">\n",
       "  <thead>\n",
       "    <tr style=\"text-align: right;\">\n",
       "      <th></th>\n",
       "      <th>count</th>\n",
       "      <th>mean</th>\n",
       "      <th>std</th>\n",
       "      <th>min</th>\n",
       "      <th>25%</th>\n",
       "      <th>50%</th>\n",
       "      <th>75%</th>\n",
       "      <th>max</th>\n",
       "    </tr>\n",
       "  </thead>\n",
       "  <tbody>\n",
       "    <tr>\n",
       "      <th>0</th>\n",
       "      <td>303.0</td>\n",
       "      <td>5.825923e-17</td>\n",
       "      <td>1.001654</td>\n",
       "      <td>-2.797624</td>\n",
       "      <td>-0.757280</td>\n",
       "      <td>0.069886</td>\n",
       "      <td>0.731619</td>\n",
       "      <td>2.496240</td>\n",
       "    </tr>\n",
       "    <tr>\n",
       "      <th>1</th>\n",
       "      <td>303.0</td>\n",
       "      <td>-7.146832e-16</td>\n",
       "      <td>1.001654</td>\n",
       "      <td>-2.148802</td>\n",
       "      <td>-0.663867</td>\n",
       "      <td>-0.092738</td>\n",
       "      <td>0.478391</td>\n",
       "      <td>3.905165</td>\n",
       "    </tr>\n",
       "    <tr>\n",
       "      <th>2</th>\n",
       "      <td>303.0</td>\n",
       "      <td>-9.828955e-17</td>\n",
       "      <td>1.001654</td>\n",
       "      <td>-2.324160</td>\n",
       "      <td>-0.681494</td>\n",
       "      <td>-0.121055</td>\n",
       "      <td>0.545674</td>\n",
       "      <td>6.140401</td>\n",
       "    </tr>\n",
       "    <tr>\n",
       "      <th>3</th>\n",
       "      <td>303.0</td>\n",
       "      <td>-5.203025e-16</td>\n",
       "      <td>1.001654</td>\n",
       "      <td>-3.439267</td>\n",
       "      <td>-0.706111</td>\n",
       "      <td>0.146634</td>\n",
       "      <td>0.715131</td>\n",
       "      <td>2.289429</td>\n",
       "    </tr>\n",
       "    <tr>\n",
       "      <th>4</th>\n",
       "      <td>303.0</td>\n",
       "      <td>-3.140136e-16</td>\n",
       "      <td>1.001654</td>\n",
       "      <td>-0.896862</td>\n",
       "      <td>-0.896862</td>\n",
       "      <td>-0.206705</td>\n",
       "      <td>0.483451</td>\n",
       "      <td>4.451851</td>\n",
       "    </tr>\n",
       "  </tbody>\n",
       "</table>\n",
       "</div>"
      ],
      "text/plain": [
       "   count          mean       std       min       25%       50%       75%  \\\n",
       "0  303.0  5.825923e-17  1.001654 -2.797624 -0.757280  0.069886  0.731619   \n",
       "1  303.0 -7.146832e-16  1.001654 -2.148802 -0.663867 -0.092738  0.478391   \n",
       "2  303.0 -9.828955e-17  1.001654 -2.324160 -0.681494 -0.121055  0.545674   \n",
       "3  303.0 -5.203025e-16  1.001654 -3.439267 -0.706111  0.146634  0.715131   \n",
       "4  303.0 -3.140136e-16  1.001654 -0.896862 -0.896862 -0.206705  0.483451   \n",
       "\n",
       "        max  \n",
       "0  2.496240  \n",
       "1  3.905165  \n",
       "2  6.140401  \n",
       "3  2.289429  \n",
       "4  4.451851  "
      ]
     },
     "execution_count": 19,
     "metadata": {},
     "output_type": "execute_result"
    }
   ],
   "source": [
    "pd.DataFrame(scaled_array).describe().T"
   ]
  },
  {
   "cell_type": "markdown",
   "id": "c01c3206",
   "metadata": {
    "papermill": {
     "duration": 0.095352,
     "end_time": "2022-02-26T09:27:01.488548",
     "exception": false,
     "start_time": "2022-02-26T09:27:01.393196",
     "status": "completed"
    },
    "tags": []
   },
   "source": [
    "* As shown in above table, std is 1 for each features. So we were able to standardize our numerical feautures"
   ]
  },
  {
   "cell_type": "markdown",
   "id": "fbb8f476",
   "metadata": {
    "papermill": {
     "duration": 0.095726,
     "end_time": "2022-02-26T09:27:01.684558",
     "exception": false,
     "start_time": "2022-02-26T09:27:01.588832",
     "status": "completed"
    },
    "tags": []
   },
   "source": [
    "<a id=9></a>\n",
    "## Box Plot Analysis"
   ]
  },
  {
   "cell_type": "code",
   "execution_count": 20,
   "id": "7b8406df",
   "metadata": {
    "execution": {
     "iopub.execute_input": "2022-02-26T09:27:01.882389Z",
     "iopub.status.busy": "2022-02-26T09:27:01.881724Z",
     "iopub.status.idle": "2022-02-26T09:27:01.893948Z",
     "shell.execute_reply": "2022-02-26T09:27:01.894463Z",
     "shell.execute_reply.started": "2022-02-26T08:34:35.423370Z"
    },
    "papermill": {
     "duration": 0.112239,
     "end_time": "2022-02-26T09:27:01.894639",
     "exception": false,
     "start_time": "2022-02-26T09:27:01.782400",
     "status": "completed"
    },
    "tags": []
   },
   "outputs": [
    {
     "data": {
      "text/html": [
       "<div>\n",
       "<style scoped>\n",
       "    .dataframe tbody tr th:only-of-type {\n",
       "        vertical-align: middle;\n",
       "    }\n",
       "\n",
       "    .dataframe tbody tr th {\n",
       "        vertical-align: top;\n",
       "    }\n",
       "\n",
       "    .dataframe thead th {\n",
       "        text-align: right;\n",
       "    }\n",
       "</style>\n",
       "<table border=\"1\" class=\"dataframe\">\n",
       "  <thead>\n",
       "    <tr style=\"text-align: right;\">\n",
       "      <th></th>\n",
       "      <th>age</th>\n",
       "      <th>trtbps</th>\n",
       "      <th>chol</th>\n",
       "      <th>thalachh</th>\n",
       "      <th>oldpeak</th>\n",
       "    </tr>\n",
       "  </thead>\n",
       "  <tbody>\n",
       "    <tr>\n",
       "      <th>0</th>\n",
       "      <td>0.952197</td>\n",
       "      <td>0.763956</td>\n",
       "      <td>-0.256334</td>\n",
       "      <td>0.015443</td>\n",
       "      <td>1.087338</td>\n",
       "    </tr>\n",
       "    <tr>\n",
       "      <th>1</th>\n",
       "      <td>-1.915313</td>\n",
       "      <td>-0.092738</td>\n",
       "      <td>0.072199</td>\n",
       "      <td>1.633471</td>\n",
       "      <td>2.122573</td>\n",
       "    </tr>\n",
       "    <tr>\n",
       "      <th>2</th>\n",
       "      <td>-1.474158</td>\n",
       "      <td>-0.092738</td>\n",
       "      <td>-0.816773</td>\n",
       "      <td>0.977514</td>\n",
       "      <td>0.310912</td>\n",
       "    </tr>\n",
       "    <tr>\n",
       "      <th>3</th>\n",
       "      <td>0.180175</td>\n",
       "      <td>-0.663867</td>\n",
       "      <td>-0.198357</td>\n",
       "      <td>1.239897</td>\n",
       "      <td>-0.206705</td>\n",
       "    </tr>\n",
       "    <tr>\n",
       "      <th>4</th>\n",
       "      <td>0.290464</td>\n",
       "      <td>-0.663867</td>\n",
       "      <td>2.082050</td>\n",
       "      <td>0.583939</td>\n",
       "      <td>-0.379244</td>\n",
       "    </tr>\n",
       "  </tbody>\n",
       "</table>\n",
       "</div>"
      ],
      "text/plain": [
       "        age    trtbps      chol  thalachh   oldpeak\n",
       "0  0.952197  0.763956 -0.256334  0.015443  1.087338\n",
       "1 -1.915313 -0.092738  0.072199  1.633471  2.122573\n",
       "2 -1.474158 -0.092738 -0.816773  0.977514  0.310912\n",
       "3  0.180175 -0.663867 -0.198357  1.239897 -0.206705\n",
       "4  0.290464 -0.663867  2.082050  0.583939 -0.379244"
      ]
     },
     "execution_count": 20,
     "metadata": {},
     "output_type": "execute_result"
    }
   ],
   "source": [
    "# we will use seaborn library\n",
    "# We want to show the distribution of each feature according to output with boxplot. \n",
    "# so we need to melted data\n",
    "# we will create dummy data\n",
    "df_dummy=pd.DataFrame(scaled_array, columns=numeric_list[:-1])\n",
    "df_dummy.head()"
   ]
  },
  {
   "cell_type": "code",
   "execution_count": 21,
   "id": "0d9c818d",
   "metadata": {
    "execution": {
     "iopub.execute_input": "2022-02-26T09:27:02.092098Z",
     "iopub.status.busy": "2022-02-26T09:27:02.091462Z",
     "iopub.status.idle": "2022-02-26T09:27:02.106102Z",
     "shell.execute_reply": "2022-02-26T09:27:02.105542Z",
     "shell.execute_reply.started": "2022-02-26T08:34:35.441155Z"
    },
    "papermill": {
     "duration": 0.113806,
     "end_time": "2022-02-26T09:27:02.106323",
     "exception": false,
     "start_time": "2022-02-26T09:27:01.992517",
     "status": "completed"
    },
    "tags": []
   },
   "outputs": [
    {
     "data": {
      "text/html": [
       "<div>\n",
       "<style scoped>\n",
       "    .dataframe tbody tr th:only-of-type {\n",
       "        vertical-align: middle;\n",
       "    }\n",
       "\n",
       "    .dataframe tbody tr th {\n",
       "        vertical-align: top;\n",
       "    }\n",
       "\n",
       "    .dataframe thead th {\n",
       "        text-align: right;\n",
       "    }\n",
       "</style>\n",
       "<table border=\"1\" class=\"dataframe\">\n",
       "  <thead>\n",
       "    <tr style=\"text-align: right;\">\n",
       "      <th></th>\n",
       "      <th>age</th>\n",
       "      <th>trtbps</th>\n",
       "      <th>chol</th>\n",
       "      <th>thalachh</th>\n",
       "      <th>oldpeak</th>\n",
       "      <th>output</th>\n",
       "    </tr>\n",
       "  </thead>\n",
       "  <tbody>\n",
       "    <tr>\n",
       "      <th>0</th>\n",
       "      <td>0.952197</td>\n",
       "      <td>0.763956</td>\n",
       "      <td>-0.256334</td>\n",
       "      <td>0.015443</td>\n",
       "      <td>1.087338</td>\n",
       "      <td>1</td>\n",
       "    </tr>\n",
       "    <tr>\n",
       "      <th>1</th>\n",
       "      <td>-1.915313</td>\n",
       "      <td>-0.092738</td>\n",
       "      <td>0.072199</td>\n",
       "      <td>1.633471</td>\n",
       "      <td>2.122573</td>\n",
       "      <td>1</td>\n",
       "    </tr>\n",
       "    <tr>\n",
       "      <th>2</th>\n",
       "      <td>-1.474158</td>\n",
       "      <td>-0.092738</td>\n",
       "      <td>-0.816773</td>\n",
       "      <td>0.977514</td>\n",
       "      <td>0.310912</td>\n",
       "      <td>1</td>\n",
       "    </tr>\n",
       "    <tr>\n",
       "      <th>3</th>\n",
       "      <td>0.180175</td>\n",
       "      <td>-0.663867</td>\n",
       "      <td>-0.198357</td>\n",
       "      <td>1.239897</td>\n",
       "      <td>-0.206705</td>\n",
       "      <td>1</td>\n",
       "    </tr>\n",
       "    <tr>\n",
       "      <th>4</th>\n",
       "      <td>0.290464</td>\n",
       "      <td>-0.663867</td>\n",
       "      <td>2.082050</td>\n",
       "      <td>0.583939</td>\n",
       "      <td>-0.379244</td>\n",
       "      <td>1</td>\n",
       "    </tr>\n",
       "  </tbody>\n",
       "</table>\n",
       "</div>"
      ],
      "text/plain": [
       "        age    trtbps      chol  thalachh   oldpeak  output\n",
       "0  0.952197  0.763956 -0.256334  0.015443  1.087338       1\n",
       "1 -1.915313 -0.092738  0.072199  1.633471  2.122573       1\n",
       "2 -1.474158 -0.092738 -0.816773  0.977514  0.310912       1\n",
       "3  0.180175 -0.663867 -0.198357  1.239897 -0.206705       1\n",
       "4  0.290464 -0.663867  2.082050  0.583939 -0.379244       1"
      ]
     },
     "execution_count": 21,
     "metadata": {},
     "output_type": "execute_result"
    }
   ],
   "source": [
    "# we will concatenation dummy dataframe with output\n",
    "df_dummy=pd.concat([df_dummy, df.loc[:,\"output\"]], axis=1)\n",
    "df_dummy.head()"
   ]
  },
  {
   "cell_type": "code",
   "execution_count": 22,
   "id": "2e905ffb",
   "metadata": {
    "execution": {
     "iopub.execute_input": "2022-02-26T09:27:02.317110Z",
     "iopub.status.busy": "2022-02-26T09:27:02.307717Z",
     "iopub.status.idle": "2022-02-26T09:27:02.320974Z",
     "shell.execute_reply": "2022-02-26T09:27:02.320451Z",
     "shell.execute_reply.started": "2022-02-26T08:34:35.465969Z"
    },
    "papermill": {
     "duration": 0.116564,
     "end_time": "2022-02-26T09:27:02.321140",
     "exception": false,
     "start_time": "2022-02-26T09:27:02.204576",
     "status": "completed"
    },
    "tags": []
   },
   "outputs": [
    {
     "data": {
      "text/html": [
       "<div>\n",
       "<style scoped>\n",
       "    .dataframe tbody tr th:only-of-type {\n",
       "        vertical-align: middle;\n",
       "    }\n",
       "\n",
       "    .dataframe tbody tr th {\n",
       "        vertical-align: top;\n",
       "    }\n",
       "\n",
       "    .dataframe thead th {\n",
       "        text-align: right;\n",
       "    }\n",
       "</style>\n",
       "<table border=\"1\" class=\"dataframe\">\n",
       "  <thead>\n",
       "    <tr style=\"text-align: right;\">\n",
       "      <th></th>\n",
       "      <th>output</th>\n",
       "      <th>features</th>\n",
       "      <th>value</th>\n",
       "    </tr>\n",
       "  </thead>\n",
       "  <tbody>\n",
       "    <tr>\n",
       "      <th>0</th>\n",
       "      <td>1</td>\n",
       "      <td>age</td>\n",
       "      <td>0.952197</td>\n",
       "    </tr>\n",
       "    <tr>\n",
       "      <th>1</th>\n",
       "      <td>1</td>\n",
       "      <td>age</td>\n",
       "      <td>-1.915313</td>\n",
       "    </tr>\n",
       "    <tr>\n",
       "      <th>2</th>\n",
       "      <td>1</td>\n",
       "      <td>age</td>\n",
       "      <td>-1.474158</td>\n",
       "    </tr>\n",
       "    <tr>\n",
       "      <th>3</th>\n",
       "      <td>1</td>\n",
       "      <td>age</td>\n",
       "      <td>0.180175</td>\n",
       "    </tr>\n",
       "    <tr>\n",
       "      <th>4</th>\n",
       "      <td>1</td>\n",
       "      <td>age</td>\n",
       "      <td>0.290464</td>\n",
       "    </tr>\n",
       "    <tr>\n",
       "      <th>5</th>\n",
       "      <td>1</td>\n",
       "      <td>age</td>\n",
       "      <td>0.290464</td>\n",
       "    </tr>\n",
       "    <tr>\n",
       "      <th>6</th>\n",
       "      <td>1</td>\n",
       "      <td>age</td>\n",
       "      <td>0.180175</td>\n",
       "    </tr>\n",
       "    <tr>\n",
       "      <th>7</th>\n",
       "      <td>1</td>\n",
       "      <td>age</td>\n",
       "      <td>-1.143291</td>\n",
       "    </tr>\n",
       "    <tr>\n",
       "      <th>8</th>\n",
       "      <td>1</td>\n",
       "      <td>age</td>\n",
       "      <td>-0.260980</td>\n",
       "    </tr>\n",
       "    <tr>\n",
       "      <th>9</th>\n",
       "      <td>1</td>\n",
       "      <td>age</td>\n",
       "      <td>0.290464</td>\n",
       "    </tr>\n",
       "    <tr>\n",
       "      <th>10</th>\n",
       "      <td>1</td>\n",
       "      <td>age</td>\n",
       "      <td>-0.040403</td>\n",
       "    </tr>\n",
       "    <tr>\n",
       "      <th>11</th>\n",
       "      <td>1</td>\n",
       "      <td>age</td>\n",
       "      <td>-0.702136</td>\n",
       "    </tr>\n",
       "    <tr>\n",
       "      <th>12</th>\n",
       "      <td>1</td>\n",
       "      <td>age</td>\n",
       "      <td>-0.591847</td>\n",
       "    </tr>\n",
       "    <tr>\n",
       "      <th>13</th>\n",
       "      <td>1</td>\n",
       "      <td>age</td>\n",
       "      <td>1.062485</td>\n",
       "    </tr>\n",
       "    <tr>\n",
       "      <th>14</th>\n",
       "      <td>1</td>\n",
       "      <td>age</td>\n",
       "      <td>0.400752</td>\n",
       "    </tr>\n",
       "    <tr>\n",
       "      <th>15</th>\n",
       "      <td>1</td>\n",
       "      <td>age</td>\n",
       "      <td>-0.481558</td>\n",
       "    </tr>\n",
       "    <tr>\n",
       "      <th>16</th>\n",
       "      <td>1</td>\n",
       "      <td>age</td>\n",
       "      <td>0.400752</td>\n",
       "    </tr>\n",
       "    <tr>\n",
       "      <th>17</th>\n",
       "      <td>1</td>\n",
       "      <td>age</td>\n",
       "      <td>1.283063</td>\n",
       "    </tr>\n",
       "    <tr>\n",
       "      <th>18</th>\n",
       "      <td>1</td>\n",
       "      <td>age</td>\n",
       "      <td>-1.253580</td>\n",
       "    </tr>\n",
       "    <tr>\n",
       "      <th>19</th>\n",
       "      <td>1</td>\n",
       "      <td>age</td>\n",
       "      <td>1.613930</td>\n",
       "    </tr>\n",
       "  </tbody>\n",
       "</table>\n",
       "</div>"
      ],
      "text/plain": [
       "    output features     value\n",
       "0        1      age  0.952197\n",
       "1        1      age -1.915313\n",
       "2        1      age -1.474158\n",
       "3        1      age  0.180175\n",
       "4        1      age  0.290464\n",
       "5        1      age  0.290464\n",
       "6        1      age  0.180175\n",
       "7        1      age -1.143291\n",
       "8        1      age -0.260980\n",
       "9        1      age  0.290464\n",
       "10       1      age -0.040403\n",
       "11       1      age -0.702136\n",
       "12       1      age -0.591847\n",
       "13       1      age  1.062485\n",
       "14       1      age  0.400752\n",
       "15       1      age -0.481558\n",
       "16       1      age  0.400752\n",
       "17       1      age  1.283063\n",
       "18       1      age -1.253580\n",
       "19       1      age  1.613930"
      ]
     },
     "execution_count": 22,
     "metadata": {},
     "output_type": "execute_result"
    }
   ],
   "source": [
    "#Pandas melt() function is used to change the DataFrame format from wide to long. \n",
    "#It’s used to create a specific format of the DataFrame object where one or more columns work as identifiers. \n",
    "#All the remaining columns are treated as values and unpivoted to the row axis and only two columns – variable and value.\n",
    "data_melted=pd.melt(df_dummy, id_vars=\"output\", var_name=\"features\", value_name=\"value\")\n",
    "data_melted.head(20)"
   ]
  },
  {
   "cell_type": "code",
   "execution_count": 23,
   "id": "9df0d3c1",
   "metadata": {
    "execution": {
     "iopub.execute_input": "2022-02-26T09:27:02.527396Z",
     "iopub.status.busy": "2022-02-26T09:27:02.525564Z",
     "iopub.status.idle": "2022-02-26T09:27:02.891732Z",
     "shell.execute_reply": "2022-02-26T09:27:02.892249Z",
     "shell.execute_reply.started": "2022-02-26T08:34:35.492414Z"
    },
    "papermill": {
     "duration": 0.472425,
     "end_time": "2022-02-26T09:27:02.892421",
     "exception": false,
     "start_time": "2022-02-26T09:27:02.419996",
     "status": "completed"
    },
    "tags": []
   },
   "outputs": [
    {
     "data": {
      "image/png": "[encoded data removed]",
      "text/plain": [
       "<Figure size 432x288 with 1 Axes>"
      ]
     },
     "metadata": {
      "needs_background": "light"
     },
     "output_type": "display_data"
    }
   ],
   "source": [
    "#box plot\n",
    "plt.figure()\n",
    "sns.boxplot(x=\"features\", y=\"value\", hue=\"output\", data=data_melted)\n",
    "plt.show()"
   ]
  },
  {
   "cell_type": "markdown",
   "id": "abedcae5",
   "metadata": {
    "papermill": {
     "duration": 0.102441,
     "end_time": "2022-02-26T09:27:03.094186",
     "exception": false,
     "start_time": "2022-02-26T09:27:02.991745",
     "status": "completed"
    },
    "tags": []
   },
   "source": [
    "* median values of oldpeak feature are different according to the output. \n",
    "* median values of thalachh feature are different according to the output. \n",
    "* these features seem to be one of the important features when we train the logistic regression model. \n",
    "* chol feature has outlier.\n"
   ]
  },
  {
   "cell_type": "markdown",
   "id": "8f21e3f1",
   "metadata": {
    "papermill": {
     "duration": 0.098273,
     "end_time": "2022-02-26T09:27:03.292031",
     "exception": false,
     "start_time": "2022-02-26T09:27:03.193758",
     "status": "completed"
    },
    "tags": []
   },
   "source": [
    "<a id=10></a>\n",
    "## Swarm Plot Analysis"
   ]
  },
  {
   "cell_type": "code",
   "execution_count": 24,
   "id": "5f908b6b",
   "metadata": {
    "execution": {
     "iopub.execute_input": "2022-02-26T09:27:03.493712Z",
     "iopub.status.busy": "2022-02-26T09:27:03.492699Z",
     "iopub.status.idle": "2022-02-26T09:27:05.449866Z",
     "shell.execute_reply": "2022-02-26T09:27:05.450389Z",
     "shell.execute_reply.started": "2022-02-26T08:34:35.826769Z"
    },
    "papermill": {
     "duration": 2.060262,
     "end_time": "2022-02-26T09:27:05.450561",
     "exception": false,
     "start_time": "2022-02-26T09:27:03.390299",
     "status": "completed"
    },
    "tags": []
   },
   "outputs": [
    {
     "data": {
      "image/png": "[encoded data removed]",
      "text/plain": [
       "<Figure size 432x288 with 1 Axes>"
      ]
     },
     "metadata": {
      "needs_background": "light"
     },
     "output_type": "display_data"
    }
   ],
   "source": [
    "#swarm plot\n",
    "# this plot is on the basis of individuals\n",
    "plt.figure()\n",
    "sns.swarmplot(x=\"features\", y=\"value\", hue=\"output\", data=data_melted)\n",
    "plt.show()"
   ]
  },
  {
   "cell_type": "markdown",
   "id": "dfc27d7f",
   "metadata": {
    "papermill": {
     "duration": 0.102912,
     "end_time": "2022-02-26T09:27:05.655967",
     "exception": false,
     "start_time": "2022-02-26T09:27:05.553055",
     "status": "completed"
    },
    "tags": []
   },
   "source": [
    "<a id=11></a>\n",
    "## Cat Plot Analysis"
   ]
  },
  {
   "cell_type": "code",
   "execution_count": 25,
   "id": "088c7305",
   "metadata": {
    "execution": {
     "iopub.execute_input": "2022-02-26T09:27:05.864485Z",
     "iopub.status.busy": "2022-02-26T09:27:05.863479Z",
     "iopub.status.idle": "2022-02-26T09:27:06.558859Z",
     "shell.execute_reply": "2022-02-26T09:27:06.557858Z",
     "shell.execute_reply.started": "2022-02-26T08:34:37.741605Z"
    },
    "papermill": {
     "duration": 0.802303,
     "end_time": "2022-02-26T09:27:06.559015",
     "exception": false,
     "start_time": "2022-02-26T09:27:05.756712",
     "status": "completed"
    },
    "tags": []
   },
   "outputs": [
    {
     "data": {
      "image/png": "[encoded data removed]",
      "text/plain": [
       "<Figure size 762.375x360 with 2 Axes>"
      ]
     },
     "metadata": {
      "needs_background": "light"
     },
     "output_type": "display_data"
    }
   ],
   "source": [
    "sns.catplot(x=\"exng\", y=\"age\", hue=\"output\", col=\"sex\", kind=\"swarm\", data=df)\n",
    "plt.show()"
   ]
  },
  {
   "cell_type": "markdown",
   "id": "f3126656",
   "metadata": {
    "papermill": {
     "duration": 0.10205,
     "end_time": "2022-02-26T09:27:06.765770",
     "exception": false,
     "start_time": "2022-02-26T09:27:06.663720",
     "status": "completed"
    },
    "tags": []
   },
   "source": [
    "<a id=12></a>\n",
    "## Correlation Analysis"
   ]
  },
  {
   "cell_type": "code",
   "execution_count": 26,
   "id": "f747b825",
   "metadata": {
    "execution": {
     "iopub.execute_input": "2022-02-26T09:27:06.975771Z",
     "iopub.status.busy": "2022-02-26T09:27:06.974677Z",
     "iopub.status.idle": "2022-02-26T09:27:06.998031Z",
     "shell.execute_reply": "2022-02-26T09:27:06.998580Z",
     "shell.execute_reply.started": "2022-02-26T08:34:38.304837Z"
    },
    "papermill": {
     "duration": 0.131007,
     "end_time": "2022-02-26T09:27:06.998752",
     "exception": false,
     "start_time": "2022-02-26T09:27:06.867745",
     "status": "completed"
    },
    "tags": []
   },
   "outputs": [
    {
     "data": {
      "text/html": [
       "<div>\n",
       "<style scoped>\n",
       "    .dataframe tbody tr th:only-of-type {\n",
       "        vertical-align: middle;\n",
       "    }\n",
       "\n",
       "    .dataframe tbody tr th {\n",
       "        vertical-align: top;\n",
       "    }\n",
       "\n",
       "    .dataframe thead th {\n",
       "        text-align: right;\n",
       "    }\n",
       "</style>\n",
       "<table border=\"1\" class=\"dataframe\">\n",
       "  <thead>\n",
       "    <tr style=\"text-align: right;\">\n",
       "      <th></th>\n",
       "      <th>age</th>\n",
       "      <th>sex</th>\n",
       "      <th>cp</th>\n",
       "      <th>trtbps</th>\n",
       "      <th>chol</th>\n",
       "      <th>fbs</th>\n",
       "      <th>restecg</th>\n",
       "      <th>thalachh</th>\n",
       "      <th>exng</th>\n",
       "      <th>oldpeak</th>\n",
       "      <th>slp</th>\n",
       "      <th>caa</th>\n",
       "      <th>thall</th>\n",
       "      <th>output</th>\n",
       "    </tr>\n",
       "  </thead>\n",
       "  <tbody>\n",
       "    <tr>\n",
       "      <th>age</th>\n",
       "      <td>1.000000</td>\n",
       "      <td>-0.098447</td>\n",
       "      <td>-0.068653</td>\n",
       "      <td>0.279351</td>\n",
       "      <td>0.213678</td>\n",
       "      <td>0.121308</td>\n",
       "      <td>-0.116211</td>\n",
       "      <td>-0.398522</td>\n",
       "      <td>0.096801</td>\n",
       "      <td>0.210013</td>\n",
       "      <td>-0.168814</td>\n",
       "      <td>0.276326</td>\n",
       "      <td>0.068001</td>\n",
       "      <td>-0.225439</td>\n",
       "    </tr>\n",
       "    <tr>\n",
       "      <th>sex</th>\n",
       "      <td>-0.098447</td>\n",
       "      <td>1.000000</td>\n",
       "      <td>-0.049353</td>\n",
       "      <td>-0.056769</td>\n",
       "      <td>-0.197912</td>\n",
       "      <td>0.045032</td>\n",
       "      <td>-0.058196</td>\n",
       "      <td>-0.044020</td>\n",
       "      <td>0.141664</td>\n",
       "      <td>0.096093</td>\n",
       "      <td>-0.030711</td>\n",
       "      <td>0.118261</td>\n",
       "      <td>0.210041</td>\n",
       "      <td>-0.280937</td>\n",
       "    </tr>\n",
       "    <tr>\n",
       "      <th>cp</th>\n",
       "      <td>-0.068653</td>\n",
       "      <td>-0.049353</td>\n",
       "      <td>1.000000</td>\n",
       "      <td>0.047608</td>\n",
       "      <td>-0.076904</td>\n",
       "      <td>0.094444</td>\n",
       "      <td>0.044421</td>\n",
       "      <td>0.295762</td>\n",
       "      <td>-0.394280</td>\n",
       "      <td>-0.149230</td>\n",
       "      <td>0.119717</td>\n",
       "      <td>-0.181053</td>\n",
       "      <td>-0.161736</td>\n",
       "      <td>0.433798</td>\n",
       "    </tr>\n",
       "    <tr>\n",
       "      <th>trtbps</th>\n",
       "      <td>0.279351</td>\n",
       "      <td>-0.056769</td>\n",
       "      <td>0.047608</td>\n",
       "      <td>1.000000</td>\n",
       "      <td>0.123174</td>\n",
       "      <td>0.177531</td>\n",
       "      <td>-0.114103</td>\n",
       "      <td>-0.046698</td>\n",
       "      <td>0.067616</td>\n",
       "      <td>0.193216</td>\n",
       "      <td>-0.121475</td>\n",
       "      <td>0.101389</td>\n",
       "      <td>0.062210</td>\n",
       "      <td>-0.144931</td>\n",
       "    </tr>\n",
       "    <tr>\n",
       "      <th>chol</th>\n",
       "      <td>0.213678</td>\n",
       "      <td>-0.197912</td>\n",
       "      <td>-0.076904</td>\n",
       "      <td>0.123174</td>\n",
       "      <td>1.000000</td>\n",
       "      <td>0.013294</td>\n",
       "      <td>-0.151040</td>\n",
       "      <td>-0.009940</td>\n",
       "      <td>0.067023</td>\n",
       "      <td>0.053952</td>\n",
       "      <td>-0.004038</td>\n",
       "      <td>0.070511</td>\n",
       "      <td>0.098803</td>\n",
       "      <td>-0.085239</td>\n",
       "    </tr>\n",
       "    <tr>\n",
       "      <th>fbs</th>\n",
       "      <td>0.121308</td>\n",
       "      <td>0.045032</td>\n",
       "      <td>0.094444</td>\n",
       "      <td>0.177531</td>\n",
       "      <td>0.013294</td>\n",
       "      <td>1.000000</td>\n",
       "      <td>-0.084189</td>\n",
       "      <td>-0.008567</td>\n",
       "      <td>0.025665</td>\n",
       "      <td>0.005747</td>\n",
       "      <td>-0.059894</td>\n",
       "      <td>0.137979</td>\n",
       "      <td>-0.032019</td>\n",
       "      <td>-0.028046</td>\n",
       "    </tr>\n",
       "    <tr>\n",
       "      <th>restecg</th>\n",
       "      <td>-0.116211</td>\n",
       "      <td>-0.058196</td>\n",
       "      <td>0.044421</td>\n",
       "      <td>-0.114103</td>\n",
       "      <td>-0.151040</td>\n",
       "      <td>-0.084189</td>\n",
       "      <td>1.000000</td>\n",
       "      <td>0.044123</td>\n",
       "      <td>-0.070733</td>\n",
       "      <td>-0.058770</td>\n",
       "      <td>0.093045</td>\n",
       "      <td>-0.072042</td>\n",
       "      <td>-0.011981</td>\n",
       "      <td>0.137230</td>\n",
       "    </tr>\n",
       "    <tr>\n",
       "      <th>thalachh</th>\n",
       "      <td>-0.398522</td>\n",
       "      <td>-0.044020</td>\n",
       "      <td>0.295762</td>\n",
       "      <td>-0.046698</td>\n",
       "      <td>-0.009940</td>\n",
       "      <td>-0.008567</td>\n",
       "      <td>0.044123</td>\n",
       "      <td>1.000000</td>\n",
       "      <td>-0.378812</td>\n",
       "      <td>-0.344187</td>\n",
       "      <td>0.386784</td>\n",
       "      <td>-0.213177</td>\n",
       "      <td>-0.096439</td>\n",
       "      <td>0.421741</td>\n",
       "    </tr>\n",
       "    <tr>\n",
       "      <th>exng</th>\n",
       "      <td>0.096801</td>\n",
       "      <td>0.141664</td>\n",
       "      <td>-0.394280</td>\n",
       "      <td>0.067616</td>\n",
       "      <td>0.067023</td>\n",
       "      <td>0.025665</td>\n",
       "      <td>-0.070733</td>\n",
       "      <td>-0.378812</td>\n",
       "      <td>1.000000</td>\n",
       "      <td>0.288223</td>\n",
       "      <td>-0.257748</td>\n",
       "      <td>0.115739</td>\n",
       "      <td>0.206754</td>\n",
       "      <td>-0.436757</td>\n",
       "    </tr>\n",
       "    <tr>\n",
       "      <th>oldpeak</th>\n",
       "      <td>0.210013</td>\n",
       "      <td>0.096093</td>\n",
       "      <td>-0.149230</td>\n",
       "      <td>0.193216</td>\n",
       "      <td>0.053952</td>\n",
       "      <td>0.005747</td>\n",
       "      <td>-0.058770</td>\n",
       "      <td>-0.344187</td>\n",
       "      <td>0.288223</td>\n",
       "      <td>1.000000</td>\n",
       "      <td>-0.577537</td>\n",
       "      <td>0.222682</td>\n",
       "      <td>0.210244</td>\n",
       "      <td>-0.430696</td>\n",
       "    </tr>\n",
       "    <tr>\n",
       "      <th>slp</th>\n",
       "      <td>-0.168814</td>\n",
       "      <td>-0.030711</td>\n",
       "      <td>0.119717</td>\n",
       "      <td>-0.121475</td>\n",
       "      <td>-0.004038</td>\n",
       "      <td>-0.059894</td>\n",
       "      <td>0.093045</td>\n",
       "      <td>0.386784</td>\n",
       "      <td>-0.257748</td>\n",
       "      <td>-0.577537</td>\n",
       "      <td>1.000000</td>\n",
       "      <td>-0.080155</td>\n",
       "      <td>-0.104764</td>\n",
       "      <td>0.345877</td>\n",
       "    </tr>\n",
       "    <tr>\n",
       "      <th>caa</th>\n",
       "      <td>0.276326</td>\n",
       "      <td>0.118261</td>\n",
       "      <td>-0.181053</td>\n",
       "      <td>0.101389</td>\n",
       "      <td>0.070511</td>\n",
       "      <td>0.137979</td>\n",
       "      <td>-0.072042</td>\n",
       "      <td>-0.213177</td>\n",
       "      <td>0.115739</td>\n",
       "      <td>0.222682</td>\n",
       "      <td>-0.080155</td>\n",
       "      <td>1.000000</td>\n",
       "      <td>0.151832</td>\n",
       "      <td>-0.391724</td>\n",
       "    </tr>\n",
       "    <tr>\n",
       "      <th>thall</th>\n",
       "      <td>0.068001</td>\n",
       "      <td>0.210041</td>\n",
       "      <td>-0.161736</td>\n",
       "      <td>0.062210</td>\n",
       "      <td>0.098803</td>\n",
       "      <td>-0.032019</td>\n",
       "      <td>-0.011981</td>\n",
       "      <td>-0.096439</td>\n",
       "      <td>0.206754</td>\n",
       "      <td>0.210244</td>\n",
       "      <td>-0.104764</td>\n",
       "      <td>0.151832</td>\n",
       "      <td>1.000000</td>\n",
       "      <td>-0.344029</td>\n",
       "    </tr>\n",
       "    <tr>\n",
       "      <th>output</th>\n",
       "      <td>-0.225439</td>\n",
       "      <td>-0.280937</td>\n",
       "      <td>0.433798</td>\n",
       "      <td>-0.144931</td>\n",
       "      <td>-0.085239</td>\n",
       "      <td>-0.028046</td>\n",
       "      <td>0.137230</td>\n",
       "      <td>0.421741</td>\n",
       "      <td>-0.436757</td>\n",
       "      <td>-0.430696</td>\n",
       "      <td>0.345877</td>\n",
       "      <td>-0.391724</td>\n",
       "      <td>-0.344029</td>\n",
       "      <td>1.000000</td>\n",
       "    </tr>\n",
       "  </tbody>\n",
       "</table>\n",
       "</div>"
      ],
      "text/plain": [
       "               age       sex        cp    trtbps      chol       fbs  \\\n",
       "age       1.000000 -0.098447 -0.068653  0.279351  0.213678  0.121308   \n",
       "sex      -0.098447  1.000000 -0.049353 -0.056769 -0.197912  0.045032   \n",
       "cp       -0.068653 -0.049353  1.000000  0.047608 -0.076904  0.094444   \n",
       "trtbps    0.279351 -0.056769  0.047608  1.000000  0.123174  0.177531   \n",
       "chol      0.213678 -0.197912 -0.076904  0.123174  1.000000  0.013294   \n",
       "fbs       0.121308  0.045032  0.094444  0.177531  0.013294  1.000000   \n",
       "restecg  -0.116211 -0.058196  0.044421 -0.114103 -0.151040 -0.084189   \n",
       "thalachh -0.398522 -0.044020  0.295762 -0.046698 -0.009940 -0.008567   \n",
       "exng      0.096801  0.141664 -0.394280  0.067616  0.067023  0.025665   \n",
       "oldpeak   0.210013  0.096093 -0.149230  0.193216  0.053952  0.005747   \n",
       "slp      -0.168814 -0.030711  0.119717 -0.121475 -0.004038 -0.059894   \n",
       "caa       0.276326  0.118261 -0.181053  0.101389  0.070511  0.137979   \n",
       "thall     0.068001  0.210041 -0.161736  0.062210  0.098803 -0.032019   \n",
       "output   -0.225439 -0.280937  0.433798 -0.144931 -0.085239 -0.028046   \n",
       "\n",
       "           restecg  thalachh      exng   oldpeak       slp       caa  \\\n",
       "age      -0.116211 -0.398522  0.096801  0.210013 -0.168814  0.276326   \n",
       "sex      -0.058196 -0.044020  0.141664  0.096093 -0.030711  0.118261   \n",
       "cp        0.044421  0.295762 -0.394280 -0.149230  0.119717 -0.181053   \n",
       "trtbps   -0.114103 -0.046698  0.067616  0.193216 -0.121475  0.101389   \n",
       "chol     -0.151040 -0.009940  0.067023  0.053952 -0.004038  0.070511   \n",
       "fbs      -0.084189 -0.008567  0.025665  0.005747 -0.059894  0.137979   \n",
       "restecg   1.000000  0.044123 -0.070733 -0.058770  0.093045 -0.072042   \n",
       "thalachh  0.044123  1.000000 -0.378812 -0.344187  0.386784 -0.213177   \n",
       "exng     -0.070733 -0.378812  1.000000  0.288223 -0.257748  0.115739   \n",
       "oldpeak  -0.058770 -0.344187  0.288223  1.000000 -0.577537  0.222682   \n",
       "slp       0.093045  0.386784 -0.257748 -0.577537  1.000000 -0.080155   \n",
       "caa      -0.072042 -0.213177  0.115739  0.222682 -0.080155  1.000000   \n",
       "thall    -0.011981 -0.096439  0.206754  0.210244 -0.104764  0.151832   \n",
       "output    0.137230  0.421741 -0.436757 -0.430696  0.345877 -0.391724   \n",
       "\n",
       "             thall    output  \n",
       "age       0.068001 -0.225439  \n",
       "sex       0.210041 -0.280937  \n",
       "cp       -0.161736  0.433798  \n",
       "trtbps    0.062210 -0.144931  \n",
       "chol      0.098803 -0.085239  \n",
       "fbs      -0.032019 -0.028046  \n",
       "restecg  -0.011981  0.137230  \n",
       "thalachh -0.096439  0.421741  \n",
       "exng      0.206754 -0.436757  \n",
       "oldpeak   0.210244 -0.430696  \n",
       "slp      -0.104764  0.345877  \n",
       "caa       0.151832 -0.391724  \n",
       "thall     1.000000 -0.344029  \n",
       "output   -0.344029  1.000000  "
      ]
     },
     "execution_count": 26,
     "metadata": {},
     "output_type": "execute_result"
    }
   ],
   "source": [
    "#if the correlation between features is 1, \n",
    "#these features are directly proportional to each other \n",
    "# if it is -1, then these features are inversely proportional to each other \n",
    "# if it is 0, there is no correlation between them\n",
    "df.corr()"
   ]
  },
  {
   "cell_type": "code",
   "execution_count": 27,
   "id": "43153928",
   "metadata": {
    "execution": {
     "iopub.execute_input": "2022-02-26T09:27:07.211333Z",
     "iopub.status.busy": "2022-02-26T09:27:07.210359Z",
     "iopub.status.idle": "2022-02-26T09:27:08.226766Z",
     "shell.execute_reply": "2022-02-26T09:27:08.227262Z",
     "shell.execute_reply.started": "2022-02-26T08:34:38.333154Z"
    },
    "papermill": {
     "duration": 1.124888,
     "end_time": "2022-02-26T09:27:08.227446",
     "exception": false,
     "start_time": "2022-02-26T09:27:07.102558",
     "status": "completed"
    },
    "tags": []
   },
   "outputs": [
    {
     "data": {
      "image/png": "[encoded data removed]",
      "text/plain": [
       "<Figure size 1008x720 with 2 Axes>"
      ]
     },
     "metadata": {
      "needs_background": "light"
     },
     "output_type": "display_data"
    }
   ],
   "source": [
    "plt.figure(figsize=(14,10))\n",
    "sns.heatmap(df.corr(), annot=True, fmt=\".1f\", linewidths=.7)\n",
    "plt.show()"
   ]
  },
  {
   "cell_type": "markdown",
   "id": "a93faa1f",
   "metadata": {
    "papermill": {
     "duration": 0.131948,
     "end_time": "2022-02-26T09:27:08.467505",
     "exception": false,
     "start_time": "2022-02-26T09:27:08.335557",
     "status": "completed"
    },
    "tags": []
   },
   "source": [
    "* exng,oldpeak,ca and thall are inversely proportional to output\n",
    "* thalachh,cp are directly proportional to output\n",
    "* There is no correlation between trtbps,chol,fbs,nestecg and output"
   ]
  },
  {
   "cell_type": "markdown",
   "id": "61cdf025",
   "metadata": {
    "papermill": {
     "duration": 0.107575,
     "end_time": "2022-02-26T09:27:08.681212",
     "exception": false,
     "start_time": "2022-02-26T09:27:08.573637",
     "status": "completed"
    },
    "tags": []
   },
   "source": [
    "<a id=13></a>\n",
    "## Outlier Detection\n",
    "* outliers can disrupt ML process\n"
   ]
  },
  {
   "cell_type": "code",
   "execution_count": 28,
   "id": "b52acd3e",
   "metadata": {
    "execution": {
     "iopub.execute_input": "2022-02-26T09:27:08.899043Z",
     "iopub.status.busy": "2022-02-26T09:27:08.898064Z",
     "iopub.status.idle": "2022-02-26T09:27:08.910065Z",
     "shell.execute_reply": "2022-02-26T09:27:08.910648Z",
     "shell.execute_reply.started": "2022-02-26T08:34:39.300044Z"
    },
    "papermill": {
     "duration": 0.123196,
     "end_time": "2022-02-26T09:27:08.910828",
     "exception": false,
     "start_time": "2022-02-26T09:27:08.787632",
     "status": "completed"
    },
    "tags": []
   },
   "outputs": [
    {
     "data": {
      "text/html": [
       "<div>\n",
       "<style scoped>\n",
       "    .dataframe tbody tr th:only-of-type {\n",
       "        vertical-align: middle;\n",
       "    }\n",
       "\n",
       "    .dataframe tbody tr th {\n",
       "        vertical-align: top;\n",
       "    }\n",
       "\n",
       "    .dataframe thead th {\n",
       "        text-align: right;\n",
       "    }\n",
       "</style>\n",
       "<table border=\"1\" class=\"dataframe\">\n",
       "  <thead>\n",
       "    <tr style=\"text-align: right;\">\n",
       "      <th></th>\n",
       "      <th>age</th>\n",
       "      <th>trtbps</th>\n",
       "      <th>chol</th>\n",
       "      <th>thalachh</th>\n",
       "      <th>oldpeak</th>\n",
       "    </tr>\n",
       "  </thead>\n",
       "  <tbody>\n",
       "    <tr>\n",
       "      <th>0</th>\n",
       "      <td>63</td>\n",
       "      <td>145</td>\n",
       "      <td>233</td>\n",
       "      <td>150</td>\n",
       "      <td>2.3</td>\n",
       "    </tr>\n",
       "    <tr>\n",
       "      <th>1</th>\n",
       "      <td>37</td>\n",
       "      <td>130</td>\n",
       "      <td>250</td>\n",
       "      <td>187</td>\n",
       "      <td>3.5</td>\n",
       "    </tr>\n",
       "    <tr>\n",
       "      <th>2</th>\n",
       "      <td>41</td>\n",
       "      <td>130</td>\n",
       "      <td>204</td>\n",
       "      <td>172</td>\n",
       "      <td>1.4</td>\n",
       "    </tr>\n",
       "    <tr>\n",
       "      <th>3</th>\n",
       "      <td>56</td>\n",
       "      <td>120</td>\n",
       "      <td>236</td>\n",
       "      <td>178</td>\n",
       "      <td>0.8</td>\n",
       "    </tr>\n",
       "    <tr>\n",
       "      <th>4</th>\n",
       "      <td>57</td>\n",
       "      <td>120</td>\n",
       "      <td>354</td>\n",
       "      <td>163</td>\n",
       "      <td>0.6</td>\n",
       "    </tr>\n",
       "  </tbody>\n",
       "</table>\n",
       "</div>"
      ],
      "text/plain": [
       "   age  trtbps  chol  thalachh  oldpeak\n",
       "0   63     145   233       150      2.3\n",
       "1   37     130   250       187      3.5\n",
       "2   41     130   204       172      1.4\n",
       "3   56     120   236       178      0.8\n",
       "4   57     120   354       163      0.6"
      ]
     },
     "execution_count": 28,
     "metadata": {},
     "output_type": "execute_result"
    }
   ],
   "source": [
    "numeric_list=[\"age\", \"trtbps\", \"chol\", \"thalachh\", \"oldpeak\"]\n",
    "df_numeric=df.loc[:,numeric_list]\n",
    "df_numeric.head()"
   ]
  },
  {
   "cell_type": "code",
   "execution_count": 29,
   "id": "e62df2e1",
   "metadata": {
    "execution": {
     "iopub.execute_input": "2022-02-26T09:27:09.128279Z",
     "iopub.status.busy": "2022-02-26T09:27:09.127310Z",
     "iopub.status.idle": "2022-02-26T09:27:09.151918Z",
     "shell.execute_reply": "2022-02-26T09:27:09.152468Z",
     "shell.execute_reply.started": "2022-02-26T08:34:39.317588Z"
    },
    "papermill": {
     "duration": 0.135071,
     "end_time": "2022-02-26T09:27:09.152638",
     "exception": false,
     "start_time": "2022-02-26T09:27:09.017567",
     "status": "completed"
    },
    "tags": []
   },
   "outputs": [
    {
     "data": {
      "text/html": [
       "<div>\n",
       "<style scoped>\n",
       "    .dataframe tbody tr th:only-of-type {\n",
       "        vertical-align: middle;\n",
       "    }\n",
       "\n",
       "    .dataframe tbody tr th {\n",
       "        vertical-align: top;\n",
       "    }\n",
       "\n",
       "    .dataframe thead th {\n",
       "        text-align: right;\n",
       "    }\n",
       "</style>\n",
       "<table border=\"1\" class=\"dataframe\">\n",
       "  <thead>\n",
       "    <tr style=\"text-align: right;\">\n",
       "      <th></th>\n",
       "      <th>age</th>\n",
       "      <th>trtbps</th>\n",
       "      <th>chol</th>\n",
       "      <th>thalachh</th>\n",
       "      <th>oldpeak</th>\n",
       "    </tr>\n",
       "  </thead>\n",
       "  <tbody>\n",
       "    <tr>\n",
       "      <th>count</th>\n",
       "      <td>303.000000</td>\n",
       "      <td>303.000000</td>\n",
       "      <td>303.000000</td>\n",
       "      <td>303.000000</td>\n",
       "      <td>303.000000</td>\n",
       "    </tr>\n",
       "    <tr>\n",
       "      <th>mean</th>\n",
       "      <td>54.366337</td>\n",
       "      <td>131.623762</td>\n",
       "      <td>246.264026</td>\n",
       "      <td>149.646865</td>\n",
       "      <td>1.039604</td>\n",
       "    </tr>\n",
       "    <tr>\n",
       "      <th>std</th>\n",
       "      <td>9.082101</td>\n",
       "      <td>17.538143</td>\n",
       "      <td>51.830751</td>\n",
       "      <td>22.905161</td>\n",
       "      <td>1.161075</td>\n",
       "    </tr>\n",
       "    <tr>\n",
       "      <th>min</th>\n",
       "      <td>29.000000</td>\n",
       "      <td>94.000000</td>\n",
       "      <td>126.000000</td>\n",
       "      <td>71.000000</td>\n",
       "      <td>0.000000</td>\n",
       "    </tr>\n",
       "    <tr>\n",
       "      <th>25%</th>\n",
       "      <td>47.500000</td>\n",
       "      <td>120.000000</td>\n",
       "      <td>211.000000</td>\n",
       "      <td>133.500000</td>\n",
       "      <td>0.000000</td>\n",
       "    </tr>\n",
       "    <tr>\n",
       "      <th>50%</th>\n",
       "      <td>55.000000</td>\n",
       "      <td>130.000000</td>\n",
       "      <td>240.000000</td>\n",
       "      <td>153.000000</td>\n",
       "      <td>0.800000</td>\n",
       "    </tr>\n",
       "    <tr>\n",
       "      <th>75%</th>\n",
       "      <td>61.000000</td>\n",
       "      <td>140.000000</td>\n",
       "      <td>274.500000</td>\n",
       "      <td>166.000000</td>\n",
       "      <td>1.600000</td>\n",
       "    </tr>\n",
       "    <tr>\n",
       "      <th>max</th>\n",
       "      <td>77.000000</td>\n",
       "      <td>200.000000</td>\n",
       "      <td>564.000000</td>\n",
       "      <td>202.000000</td>\n",
       "      <td>6.200000</td>\n",
       "    </tr>\n",
       "  </tbody>\n",
       "</table>\n",
       "</div>"
      ],
      "text/plain": [
       "              age      trtbps        chol    thalachh     oldpeak\n",
       "count  303.000000  303.000000  303.000000  303.000000  303.000000\n",
       "mean    54.366337  131.623762  246.264026  149.646865    1.039604\n",
       "std      9.082101   17.538143   51.830751   22.905161    1.161075\n",
       "min     29.000000   94.000000  126.000000   71.000000    0.000000\n",
       "25%     47.500000  120.000000  211.000000  133.500000    0.000000\n",
       "50%     55.000000  130.000000  240.000000  153.000000    0.800000\n",
       "75%     61.000000  140.000000  274.500000  166.000000    1.600000\n",
       "max     77.000000  200.000000  564.000000  202.000000    6.200000"
      ]
     },
     "execution_count": 29,
     "metadata": {},
     "output_type": "execute_result"
    }
   ],
   "source": [
    "df_numeric.describe()"
   ]
  },
  {
   "cell_type": "code",
   "execution_count": 30,
   "id": "dd88c3b6",
   "metadata": {
    "execution": {
     "iopub.execute_input": "2022-02-26T09:27:09.371270Z",
     "iopub.status.busy": "2022-02-26T09:27:09.370242Z",
     "iopub.status.idle": "2022-02-26T09:27:09.395373Z",
     "shell.execute_reply": "2022-02-26T09:27:09.396212Z",
     "shell.execute_reply.started": "2022-02-26T08:34:39.350030Z"
    },
    "papermill": {
     "duration": 0.136933,
     "end_time": "2022-02-26T09:27:09.396446",
     "exception": false,
     "start_time": "2022-02-26T09:27:09.259513",
     "status": "completed"
    },
    "tags": []
   },
   "outputs": [
    {
     "name": "stdout",
     "output_type": "stream",
     "text": [
      "Old Shape: (303,)\n",
      "(array([], dtype=int64),)--(array([], dtype=int64),)\n",
      "New shape:  (303, 14)\n",
      "Old Shape: (303,)\n",
      "(array([223, 248]),)--(array([], dtype=int64),)\n",
      "New shape:  (301, 14)\n",
      "Old Shape: (301,)\n",
      "(array([85]),)--(array([], dtype=int64),)\n",
      "New shape:  (300, 14)\n",
      "Old Shape: (300,)\n",
      "(array([], dtype=int64),)--(array([], dtype=int64),)\n",
      "New shape:  (300, 14)\n",
      "Old Shape: (300,)\n",
      "(array([203, 220]),)--(array([], dtype=int64),)\n",
      "New shape:  (298, 14)\n"
     ]
    }
   ],
   "source": [
    "#outlier detection\n",
    "#we will iterate each feature by loop\n",
    "for i in numeric_list:\n",
    "    \n",
    "    #IQR\n",
    "    #numpy.percentile()function used to compute the nth percentile of the given data (array elements) along the specified axis. \n",
    "    Q1 = np.percentile(df.loc[:,i],25)\n",
    "    Q3 = np.percentile(df.loc[:,i],75)\n",
    "    \n",
    "    IQR=Q3-Q1\n",
    "    print(\"Old Shape:\",df.loc[:,i].shape)\n",
    "    \n",
    "    #upper bound\n",
    "    #we can also use 1.5*IQR but we dont want drop many items\n",
    "    #so we used 2.5*IQR\n",
    "    upper=np.where(df.loc[:,i]>= (Q3+2.5*IQR))\n",
    "    # The numpy.where() function returns the indices of elements in an input array where the given condition is satisfied.\n",
    "    \n",
    "    \n",
    "    #lower bound\n",
    "    lower=np.where(df.loc[:,i]<= (Q1-2.5*IQR))\n",
    "    \n",
    "    print(\"{}--{}\".format(upper,lower))\n",
    "    \n",
    "    \n",
    "    try:\n",
    "    #upper returns array and datatype of array\n",
    "    #so we dropped array[0] that is we dropped our outliers\n",
    "        df.drop(upper[0], inplace=True)\n",
    "    except: print(\"KeyError:{} not found in axis\". format(upper[0]))\n",
    "    \n",
    "    try:\n",
    "    #lower returns array and datatype of array\n",
    "    #so we dropped array[0] that is we dropped our outliers\n",
    "        df.drop(lower[0], inplace=True)\n",
    "    except: print(\"KeyError:{} not found in axis\". format(lower[0]))\n",
    "        \n",
    "    print(\"New shape: \", df.shape)"
   ]
  },
  {
   "cell_type": "markdown",
   "id": "e22c1ea0",
   "metadata": {
    "papermill": {
     "duration": 0.107753,
     "end_time": "2022-02-26T09:27:09.614378",
     "exception": false,
     "start_time": "2022-02-26T09:27:09.506625",
     "status": "completed"
    },
    "tags": []
   },
   "source": [
    "<a id=14></a>\n",
    "## Modelling"
   ]
  },
  {
   "cell_type": "code",
   "execution_count": 31,
   "id": "41cbd408",
   "metadata": {
    "execution": {
     "iopub.execute_input": "2022-02-26T09:27:09.835040Z",
     "iopub.status.busy": "2022-02-26T09:27:09.834035Z",
     "iopub.status.idle": "2022-02-26T09:27:09.837580Z",
     "shell.execute_reply": "2022-02-26T09:27:09.838060Z",
     "shell.execute_reply.started": "2022-02-26T08:37:36.522388Z"
    },
    "papermill": {
     "duration": 0.115049,
     "end_time": "2022-02-26T09:27:09.838253",
     "exception": false,
     "start_time": "2022-02-26T09:27:09.723204",
     "status": "completed"
    },
    "tags": []
   },
   "outputs": [],
   "source": [
    "df1=df.copy()"
   ]
  },
  {
   "attachments": {
    "61a4be64-bf63-4e74-a3ec-cec15c5f6efa.png": {
     "image/png": "[encoded data removed]"
    }
   },
   "cell_type": "markdown",
   "id": "19b0df00",
   "metadata": {
    "papermill": {
     "duration": 0.108976,
     "end_time": "2022-02-26T09:27:10.056009",
     "exception": false,
     "start_time": "2022-02-26T09:27:09.947033",
     "status": "completed"
    },
    "tags": []
   },
   "source": [
    "## Encoding Categorical columns\n",
    "* Encoding categorical data is a process of converting categorical data into integer format so that the data with converted categorical values can be provided to the different models. In the field of data science, before going for the modelling, data preparation is a mandatory task\n",
    "\n",
    "\n",
    "![ecc.png](attachment:61a4be64-bf63-4e74-a3ec-cec15c5f6efa.png)"
   ]
  },
  {
   "cell_type": "code",
   "execution_count": 32,
   "id": "7944a6f4",
   "metadata": {
    "execution": {
     "iopub.execute_input": "2022-02-26T09:27:10.280254Z",
     "iopub.status.busy": "2022-02-26T09:27:10.279290Z",
     "iopub.status.idle": "2022-02-26T09:27:10.305983Z",
     "shell.execute_reply": "2022-02-26T09:27:10.306581Z",
     "shell.execute_reply.started": "2022-02-26T08:41:29.576856Z"
    },
    "papermill": {
     "duration": 0.138965,
     "end_time": "2022-02-26T09:27:10.306784",
     "exception": false,
     "start_time": "2022-02-26T09:27:10.167819",
     "status": "completed"
    },
    "tags": []
   },
   "outputs": [
    {
     "data": {
      "text/html": [
       "<div>\n",
       "<style scoped>\n",
       "    .dataframe tbody tr th:only-of-type {\n",
       "        vertical-align: middle;\n",
       "    }\n",
       "\n",
       "    .dataframe tbody tr th {\n",
       "        vertical-align: top;\n",
       "    }\n",
       "\n",
       "    .dataframe thead th {\n",
       "        text-align: right;\n",
       "    }\n",
       "</style>\n",
       "<table border=\"1\" class=\"dataframe\">\n",
       "  <thead>\n",
       "    <tr style=\"text-align: right;\">\n",
       "      <th></th>\n",
       "      <th>age</th>\n",
       "      <th>trtbps</th>\n",
       "      <th>chol</th>\n",
       "      <th>thalachh</th>\n",
       "      <th>oldpeak</th>\n",
       "      <th>output</th>\n",
       "      <th>sex_1</th>\n",
       "      <th>cp_1</th>\n",
       "      <th>cp_2</th>\n",
       "      <th>cp_3</th>\n",
       "      <th>...</th>\n",
       "      <th>exng_1</th>\n",
       "      <th>slp_1</th>\n",
       "      <th>slp_2</th>\n",
       "      <th>caa_1</th>\n",
       "      <th>caa_2</th>\n",
       "      <th>caa_3</th>\n",
       "      <th>caa_4</th>\n",
       "      <th>thall_1</th>\n",
       "      <th>thall_2</th>\n",
       "      <th>thall_3</th>\n",
       "    </tr>\n",
       "  </thead>\n",
       "  <tbody>\n",
       "    <tr>\n",
       "      <th>0</th>\n",
       "      <td>63</td>\n",
       "      <td>145</td>\n",
       "      <td>233</td>\n",
       "      <td>150</td>\n",
       "      <td>2.3</td>\n",
       "      <td>1</td>\n",
       "      <td>1</td>\n",
       "      <td>0</td>\n",
       "      <td>0</td>\n",
       "      <td>1</td>\n",
       "      <td>...</td>\n",
       "      <td>0</td>\n",
       "      <td>0</td>\n",
       "      <td>0</td>\n",
       "      <td>0</td>\n",
       "      <td>0</td>\n",
       "      <td>0</td>\n",
       "      <td>0</td>\n",
       "      <td>1</td>\n",
       "      <td>0</td>\n",
       "      <td>0</td>\n",
       "    </tr>\n",
       "    <tr>\n",
       "      <th>1</th>\n",
       "      <td>37</td>\n",
       "      <td>130</td>\n",
       "      <td>250</td>\n",
       "      <td>187</td>\n",
       "      <td>3.5</td>\n",
       "      <td>1</td>\n",
       "      <td>1</td>\n",
       "      <td>0</td>\n",
       "      <td>1</td>\n",
       "      <td>0</td>\n",
       "      <td>...</td>\n",
       "      <td>0</td>\n",
       "      <td>0</td>\n",
       "      <td>0</td>\n",
       "      <td>0</td>\n",
       "      <td>0</td>\n",
       "      <td>0</td>\n",
       "      <td>0</td>\n",
       "      <td>0</td>\n",
       "      <td>1</td>\n",
       "      <td>0</td>\n",
       "    </tr>\n",
       "    <tr>\n",
       "      <th>2</th>\n",
       "      <td>41</td>\n",
       "      <td>130</td>\n",
       "      <td>204</td>\n",
       "      <td>172</td>\n",
       "      <td>1.4</td>\n",
       "      <td>1</td>\n",
       "      <td>0</td>\n",
       "      <td>1</td>\n",
       "      <td>0</td>\n",
       "      <td>0</td>\n",
       "      <td>...</td>\n",
       "      <td>0</td>\n",
       "      <td>0</td>\n",
       "      <td>1</td>\n",
       "      <td>0</td>\n",
       "      <td>0</td>\n",
       "      <td>0</td>\n",
       "      <td>0</td>\n",
       "      <td>0</td>\n",
       "      <td>1</td>\n",
       "      <td>0</td>\n",
       "    </tr>\n",
       "    <tr>\n",
       "      <th>3</th>\n",
       "      <td>56</td>\n",
       "      <td>120</td>\n",
       "      <td>236</td>\n",
       "      <td>178</td>\n",
       "      <td>0.8</td>\n",
       "      <td>1</td>\n",
       "      <td>1</td>\n",
       "      <td>1</td>\n",
       "      <td>0</td>\n",
       "      <td>0</td>\n",
       "      <td>...</td>\n",
       "      <td>0</td>\n",
       "      <td>0</td>\n",
       "      <td>1</td>\n",
       "      <td>0</td>\n",
       "      <td>0</td>\n",
       "      <td>0</td>\n",
       "      <td>0</td>\n",
       "      <td>0</td>\n",
       "      <td>1</td>\n",
       "      <td>0</td>\n",
       "    </tr>\n",
       "    <tr>\n",
       "      <th>4</th>\n",
       "      <td>57</td>\n",
       "      <td>120</td>\n",
       "      <td>354</td>\n",
       "      <td>163</td>\n",
       "      <td>0.6</td>\n",
       "      <td>1</td>\n",
       "      <td>0</td>\n",
       "      <td>0</td>\n",
       "      <td>0</td>\n",
       "      <td>0</td>\n",
       "      <td>...</td>\n",
       "      <td>1</td>\n",
       "      <td>0</td>\n",
       "      <td>1</td>\n",
       "      <td>0</td>\n",
       "      <td>0</td>\n",
       "      <td>0</td>\n",
       "      <td>0</td>\n",
       "      <td>0</td>\n",
       "      <td>1</td>\n",
       "      <td>0</td>\n",
       "    </tr>\n",
       "  </tbody>\n",
       "</table>\n",
       "<p>5 rows × 23 columns</p>\n",
       "</div>"
      ],
      "text/plain": [
       "   age  trtbps  chol  thalachh  oldpeak  output  sex_1  cp_1  cp_2  cp_3  ...  \\\n",
       "0   63     145   233       150      2.3       1      1     0     0     1  ...   \n",
       "1   37     130   250       187      3.5       1      1     0     1     0  ...   \n",
       "2   41     130   204       172      1.4       1      0     1     0     0  ...   \n",
       "3   56     120   236       178      0.8       1      1     1     0     0  ...   \n",
       "4   57     120   354       163      0.6       1      0     0     0     0  ...   \n",
       "\n",
       "   exng_1  slp_1  slp_2  caa_1  caa_2  caa_3  caa_4  thall_1  thall_2  thall_3  \n",
       "0       0      0      0      0      0      0      0        1        0        0  \n",
       "1       0      0      0      0      0      0      0        0        1        0  \n",
       "2       0      0      1      0      0      0      0        0        1        0  \n",
       "3       0      0      1      0      0      0      0        0        1        0  \n",
       "4       1      0      1      0      0      0      0        0        1        0  \n",
       "\n",
       "[5 rows x 23 columns]"
      ]
     },
     "execution_count": 32,
     "metadata": {},
     "output_type": "execute_result"
    }
   ],
   "source": [
    "df1=pd.get_dummies(df1,columns=categorical_list[:-1],drop_first=True)\n",
    "df1.head()"
   ]
  },
  {
   "cell_type": "code",
   "execution_count": 33,
   "id": "36782c1d",
   "metadata": {
    "execution": {
     "iopub.execute_input": "2022-02-26T09:27:10.529707Z",
     "iopub.status.busy": "2022-02-26T09:27:10.528621Z",
     "iopub.status.idle": "2022-02-26T09:27:10.535095Z",
     "shell.execute_reply": "2022-02-26T09:27:10.535560Z",
     "shell.execute_reply.started": "2022-02-26T08:42:50.066387Z"
    },
    "papermill": {
     "duration": 0.120775,
     "end_time": "2022-02-26T09:27:10.535738",
     "exception": false,
     "start_time": "2022-02-26T09:27:10.414963",
     "status": "completed"
    },
    "tags": []
   },
   "outputs": [],
   "source": [
    "X=df1.drop([\"output\"],axis=1)\n",
    "y=df1[[\"output\"]]"
   ]
  },
  {
   "cell_type": "code",
   "execution_count": 34,
   "id": "b47bc2ce",
   "metadata": {
    "execution": {
     "iopub.execute_input": "2022-02-26T09:27:10.769291Z",
     "iopub.status.busy": "2022-02-26T09:27:10.768652Z",
     "iopub.status.idle": "2022-02-26T09:27:10.786550Z",
     "shell.execute_reply": "2022-02-26T09:27:10.787158Z",
     "shell.execute_reply.started": "2022-02-26T08:42:55.208571Z"
    },
    "papermill": {
     "duration": 0.136497,
     "end_time": "2022-02-26T09:27:10.787342",
     "exception": false,
     "start_time": "2022-02-26T09:27:10.650845",
     "status": "completed"
    },
    "tags": []
   },
   "outputs": [
    {
     "data": {
      "text/html": [
       "<div>\n",
       "<style scoped>\n",
       "    .dataframe tbody tr th:only-of-type {\n",
       "        vertical-align: middle;\n",
       "    }\n",
       "\n",
       "    .dataframe tbody tr th {\n",
       "        vertical-align: top;\n",
       "    }\n",
       "\n",
       "    .dataframe thead th {\n",
       "        text-align: right;\n",
       "    }\n",
       "</style>\n",
       "<table border=\"1\" class=\"dataframe\">\n",
       "  <thead>\n",
       "    <tr style=\"text-align: right;\">\n",
       "      <th></th>\n",
       "      <th>age</th>\n",
       "      <th>trtbps</th>\n",
       "      <th>chol</th>\n",
       "      <th>thalachh</th>\n",
       "      <th>oldpeak</th>\n",
       "      <th>sex_1</th>\n",
       "      <th>cp_1</th>\n",
       "      <th>cp_2</th>\n",
       "      <th>cp_3</th>\n",
       "      <th>fbs_1</th>\n",
       "      <th>...</th>\n",
       "      <th>exng_1</th>\n",
       "      <th>slp_1</th>\n",
       "      <th>slp_2</th>\n",
       "      <th>caa_1</th>\n",
       "      <th>caa_2</th>\n",
       "      <th>caa_3</th>\n",
       "      <th>caa_4</th>\n",
       "      <th>thall_1</th>\n",
       "      <th>thall_2</th>\n",
       "      <th>thall_3</th>\n",
       "    </tr>\n",
       "  </thead>\n",
       "  <tbody>\n",
       "    <tr>\n",
       "      <th>0</th>\n",
       "      <td>63</td>\n",
       "      <td>145</td>\n",
       "      <td>233</td>\n",
       "      <td>150</td>\n",
       "      <td>2.3</td>\n",
       "      <td>1</td>\n",
       "      <td>0</td>\n",
       "      <td>0</td>\n",
       "      <td>1</td>\n",
       "      <td>1</td>\n",
       "      <td>...</td>\n",
       "      <td>0</td>\n",
       "      <td>0</td>\n",
       "      <td>0</td>\n",
       "      <td>0</td>\n",
       "      <td>0</td>\n",
       "      <td>0</td>\n",
       "      <td>0</td>\n",
       "      <td>1</td>\n",
       "      <td>0</td>\n",
       "      <td>0</td>\n",
       "    </tr>\n",
       "    <tr>\n",
       "      <th>1</th>\n",
       "      <td>37</td>\n",
       "      <td>130</td>\n",
       "      <td>250</td>\n",
       "      <td>187</td>\n",
       "      <td>3.5</td>\n",
       "      <td>1</td>\n",
       "      <td>0</td>\n",
       "      <td>1</td>\n",
       "      <td>0</td>\n",
       "      <td>0</td>\n",
       "      <td>...</td>\n",
       "      <td>0</td>\n",
       "      <td>0</td>\n",
       "      <td>0</td>\n",
       "      <td>0</td>\n",
       "      <td>0</td>\n",
       "      <td>0</td>\n",
       "      <td>0</td>\n",
       "      <td>0</td>\n",
       "      <td>1</td>\n",
       "      <td>0</td>\n",
       "    </tr>\n",
       "    <tr>\n",
       "      <th>2</th>\n",
       "      <td>41</td>\n",
       "      <td>130</td>\n",
       "      <td>204</td>\n",
       "      <td>172</td>\n",
       "      <td>1.4</td>\n",
       "      <td>0</td>\n",
       "      <td>1</td>\n",
       "      <td>0</td>\n",
       "      <td>0</td>\n",
       "      <td>0</td>\n",
       "      <td>...</td>\n",
       "      <td>0</td>\n",
       "      <td>0</td>\n",
       "      <td>1</td>\n",
       "      <td>0</td>\n",
       "      <td>0</td>\n",
       "      <td>0</td>\n",
       "      <td>0</td>\n",
       "      <td>0</td>\n",
       "      <td>1</td>\n",
       "      <td>0</td>\n",
       "    </tr>\n",
       "    <tr>\n",
       "      <th>3</th>\n",
       "      <td>56</td>\n",
       "      <td>120</td>\n",
       "      <td>236</td>\n",
       "      <td>178</td>\n",
       "      <td>0.8</td>\n",
       "      <td>1</td>\n",
       "      <td>1</td>\n",
       "      <td>0</td>\n",
       "      <td>0</td>\n",
       "      <td>0</td>\n",
       "      <td>...</td>\n",
       "      <td>0</td>\n",
       "      <td>0</td>\n",
       "      <td>1</td>\n",
       "      <td>0</td>\n",
       "      <td>0</td>\n",
       "      <td>0</td>\n",
       "      <td>0</td>\n",
       "      <td>0</td>\n",
       "      <td>1</td>\n",
       "      <td>0</td>\n",
       "    </tr>\n",
       "    <tr>\n",
       "      <th>4</th>\n",
       "      <td>57</td>\n",
       "      <td>120</td>\n",
       "      <td>354</td>\n",
       "      <td>163</td>\n",
       "      <td>0.6</td>\n",
       "      <td>0</td>\n",
       "      <td>0</td>\n",
       "      <td>0</td>\n",
       "      <td>0</td>\n",
       "      <td>0</td>\n",
       "      <td>...</td>\n",
       "      <td>1</td>\n",
       "      <td>0</td>\n",
       "      <td>1</td>\n",
       "      <td>0</td>\n",
       "      <td>0</td>\n",
       "      <td>0</td>\n",
       "      <td>0</td>\n",
       "      <td>0</td>\n",
       "      <td>1</td>\n",
       "      <td>0</td>\n",
       "    </tr>\n",
       "  </tbody>\n",
       "</table>\n",
       "<p>5 rows × 22 columns</p>\n",
       "</div>"
      ],
      "text/plain": [
       "   age  trtbps  chol  thalachh  oldpeak  sex_1  cp_1  cp_2  cp_3  fbs_1  ...  \\\n",
       "0   63     145   233       150      2.3      1     0     0     1      1  ...   \n",
       "1   37     130   250       187      3.5      1     0     1     0      0  ...   \n",
       "2   41     130   204       172      1.4      0     1     0     0      0  ...   \n",
       "3   56     120   236       178      0.8      1     1     0     0      0  ...   \n",
       "4   57     120   354       163      0.6      0     0     0     0      0  ...   \n",
       "\n",
       "   exng_1  slp_1  slp_2  caa_1  caa_2  caa_3  caa_4  thall_1  thall_2  thall_3  \n",
       "0       0      0      0      0      0      0      0        1        0        0  \n",
       "1       0      0      0      0      0      0      0        0        1        0  \n",
       "2       0      0      1      0      0      0      0        0        1        0  \n",
       "3       0      0      1      0      0      0      0        0        1        0  \n",
       "4       1      0      1      0      0      0      0        0        1        0  \n",
       "\n",
       "[5 rows x 22 columns]"
      ]
     },
     "execution_count": 34,
     "metadata": {},
     "output_type": "execute_result"
    }
   ],
   "source": [
    "X.head()"
   ]
  },
  {
   "cell_type": "code",
   "execution_count": 35,
   "id": "0bd71a6b",
   "metadata": {
    "execution": {
     "iopub.execute_input": "2022-02-26T09:27:11.010682Z",
     "iopub.status.busy": "2022-02-26T09:27:11.010039Z",
     "iopub.status.idle": "2022-02-26T09:27:11.017416Z",
     "shell.execute_reply": "2022-02-26T09:27:11.018008Z",
     "shell.execute_reply.started": "2022-02-26T08:43:00.168157Z"
    },
    "papermill": {
     "duration": 0.121226,
     "end_time": "2022-02-26T09:27:11.018177",
     "exception": false,
     "start_time": "2022-02-26T09:27:10.896951",
     "status": "completed"
    },
    "tags": []
   },
   "outputs": [
    {
     "data": {
      "text/html": [
       "<div>\n",
       "<style scoped>\n",
       "    .dataframe tbody tr th:only-of-type {\n",
       "        vertical-align: middle;\n",
       "    }\n",
       "\n",
       "    .dataframe tbody tr th {\n",
       "        vertical-align: top;\n",
       "    }\n",
       "\n",
       "    .dataframe thead th {\n",
       "        text-align: right;\n",
       "    }\n",
       "</style>\n",
       "<table border=\"1\" class=\"dataframe\">\n",
       "  <thead>\n",
       "    <tr style=\"text-align: right;\">\n",
       "      <th></th>\n",
       "      <th>output</th>\n",
       "    </tr>\n",
       "  </thead>\n",
       "  <tbody>\n",
       "    <tr>\n",
       "      <th>0</th>\n",
       "      <td>1</td>\n",
       "    </tr>\n",
       "    <tr>\n",
       "      <th>1</th>\n",
       "      <td>1</td>\n",
       "    </tr>\n",
       "    <tr>\n",
       "      <th>2</th>\n",
       "      <td>1</td>\n",
       "    </tr>\n",
       "    <tr>\n",
       "      <th>3</th>\n",
       "      <td>1</td>\n",
       "    </tr>\n",
       "    <tr>\n",
       "      <th>4</th>\n",
       "      <td>1</td>\n",
       "    </tr>\n",
       "  </tbody>\n",
       "</table>\n",
       "</div>"
      ],
      "text/plain": [
       "   output\n",
       "0       1\n",
       "1       1\n",
       "2       1\n",
       "3       1\n",
       "4       1"
      ]
     },
     "execution_count": 35,
     "metadata": {},
     "output_type": "execute_result"
    }
   ],
   "source": [
    "y.head()"
   ]
  },
  {
   "cell_type": "markdown",
   "id": "5baa38f0",
   "metadata": {
    "papermill": {
     "duration": 0.110265,
     "end_time": "2022-02-26T09:27:11.240231",
     "exception": false,
     "start_time": "2022-02-26T09:27:11.129966",
     "status": "completed"
    },
    "tags": []
   },
   "source": [
    "## Scaling"
   ]
  },
  {
   "cell_type": "code",
   "execution_count": 36,
   "id": "0a13b1f5",
   "metadata": {
    "execution": {
     "iopub.execute_input": "2022-02-26T09:27:11.463892Z",
     "iopub.status.busy": "2022-02-26T09:27:11.463203Z",
     "iopub.status.idle": "2022-02-26T09:27:11.467561Z",
     "shell.execute_reply": "2022-02-26T09:27:11.468138Z",
     "shell.execute_reply.started": "2022-02-26T08:44:07.956166Z"
    },
    "papermill": {
     "duration": 0.117879,
     "end_time": "2022-02-26T09:27:11.468314",
     "exception": false,
     "start_time": "2022-02-26T09:27:11.350435",
     "status": "completed"
    },
    "tags": []
   },
   "outputs": [
    {
     "data": {
      "text/plain": [
       "StandardScaler()"
      ]
     },
     "execution_count": 36,
     "metadata": {},
     "output_type": "execute_result"
    }
   ],
   "source": [
    "scaler=StandardScaler()\n",
    "scaler"
   ]
  },
  {
   "cell_type": "code",
   "execution_count": 37,
   "id": "8439cb4e",
   "metadata": {
    "execution": {
     "iopub.execute_input": "2022-02-26T09:27:11.693361Z",
     "iopub.status.busy": "2022-02-26T09:27:11.692679Z",
     "iopub.status.idle": "2022-02-26T09:27:11.719075Z",
     "shell.execute_reply": "2022-02-26T09:27:11.718456Z",
     "shell.execute_reply.started": "2022-02-26T08:46:21.806772Z"
    },
    "papermill": {
     "duration": 0.140085,
     "end_time": "2022-02-26T09:27:11.719221",
     "exception": false,
     "start_time": "2022-02-26T09:27:11.579136",
     "status": "completed"
    },
    "tags": []
   },
   "outputs": [
    {
     "data": {
      "text/html": [
       "<div>\n",
       "<style scoped>\n",
       "    .dataframe tbody tr th:only-of-type {\n",
       "        vertical-align: middle;\n",
       "    }\n",
       "\n",
       "    .dataframe tbody tr th {\n",
       "        vertical-align: top;\n",
       "    }\n",
       "\n",
       "    .dataframe thead th {\n",
       "        text-align: right;\n",
       "    }\n",
       "</style>\n",
       "<table border=\"1\" class=\"dataframe\">\n",
       "  <thead>\n",
       "    <tr style=\"text-align: right;\">\n",
       "      <th></th>\n",
       "      <th>age</th>\n",
       "      <th>trtbps</th>\n",
       "      <th>chol</th>\n",
       "      <th>thalachh</th>\n",
       "      <th>oldpeak</th>\n",
       "      <th>sex_1</th>\n",
       "      <th>cp_1</th>\n",
       "      <th>cp_2</th>\n",
       "      <th>cp_3</th>\n",
       "      <th>fbs_1</th>\n",
       "      <th>...</th>\n",
       "      <th>exng_1</th>\n",
       "      <th>slp_1</th>\n",
       "      <th>slp_2</th>\n",
       "      <th>caa_1</th>\n",
       "      <th>caa_2</th>\n",
       "      <th>caa_3</th>\n",
       "      <th>caa_4</th>\n",
       "      <th>thall_1</th>\n",
       "      <th>thall_2</th>\n",
       "      <th>thall_3</th>\n",
       "    </tr>\n",
       "  </thead>\n",
       "  <tbody>\n",
       "    <tr>\n",
       "      <th>0</th>\n",
       "      <td>0.965901</td>\n",
       "      <td>0.845093</td>\n",
       "      <td>-0.236684</td>\n",
       "      <td>0.021855</td>\n",
       "      <td>2.3</td>\n",
       "      <td>1</td>\n",
       "      <td>0</td>\n",
       "      <td>0</td>\n",
       "      <td>1</td>\n",
       "      <td>1</td>\n",
       "      <td>...</td>\n",
       "      <td>0</td>\n",
       "      <td>0</td>\n",
       "      <td>0</td>\n",
       "      <td>0</td>\n",
       "      <td>0</td>\n",
       "      <td>0</td>\n",
       "      <td>0</td>\n",
       "      <td>1</td>\n",
       "      <td>0</td>\n",
       "      <td>0</td>\n",
       "    </tr>\n",
       "    <tr>\n",
       "      <th>1</th>\n",
       "      <td>-1.902555</td>\n",
       "      <td>-0.061886</td>\n",
       "      <td>0.119326</td>\n",
       "      <td>1.639116</td>\n",
       "      <td>3.5</td>\n",
       "      <td>1</td>\n",
       "      <td>0</td>\n",
       "      <td>1</td>\n",
       "      <td>0</td>\n",
       "      <td>0</td>\n",
       "      <td>...</td>\n",
       "      <td>0</td>\n",
       "      <td>0</td>\n",
       "      <td>0</td>\n",
       "      <td>0</td>\n",
       "      <td>0</td>\n",
       "      <td>0</td>\n",
       "      <td>0</td>\n",
       "      <td>0</td>\n",
       "      <td>1</td>\n",
       "      <td>0</td>\n",
       "    </tr>\n",
       "    <tr>\n",
       "      <th>2</th>\n",
       "      <td>-1.461254</td>\n",
       "      <td>-0.061886</td>\n",
       "      <td>-0.843995</td>\n",
       "      <td>0.983470</td>\n",
       "      <td>1.4</td>\n",
       "      <td>0</td>\n",
       "      <td>1</td>\n",
       "      <td>0</td>\n",
       "      <td>0</td>\n",
       "      <td>0</td>\n",
       "      <td>...</td>\n",
       "      <td>0</td>\n",
       "      <td>0</td>\n",
       "      <td>1</td>\n",
       "      <td>0</td>\n",
       "      <td>0</td>\n",
       "      <td>0</td>\n",
       "      <td>0</td>\n",
       "      <td>0</td>\n",
       "      <td>1</td>\n",
       "      <td>0</td>\n",
       "    </tr>\n",
       "    <tr>\n",
       "      <th>3</th>\n",
       "      <td>0.193624</td>\n",
       "      <td>-0.666538</td>\n",
       "      <td>-0.173859</td>\n",
       "      <td>1.245729</td>\n",
       "      <td>0.8</td>\n",
       "      <td>1</td>\n",
       "      <td>1</td>\n",
       "      <td>0</td>\n",
       "      <td>0</td>\n",
       "      <td>0</td>\n",
       "      <td>...</td>\n",
       "      <td>0</td>\n",
       "      <td>0</td>\n",
       "      <td>1</td>\n",
       "      <td>0</td>\n",
       "      <td>0</td>\n",
       "      <td>0</td>\n",
       "      <td>0</td>\n",
       "      <td>0</td>\n",
       "      <td>1</td>\n",
       "      <td>0</td>\n",
       "    </tr>\n",
       "    <tr>\n",
       "      <th>4</th>\n",
       "      <td>0.303950</td>\n",
       "      <td>-0.666538</td>\n",
       "      <td>2.297269</td>\n",
       "      <td>0.590082</td>\n",
       "      <td>0.6</td>\n",
       "      <td>0</td>\n",
       "      <td>0</td>\n",
       "      <td>0</td>\n",
       "      <td>0</td>\n",
       "      <td>0</td>\n",
       "      <td>...</td>\n",
       "      <td>1</td>\n",
       "      <td>0</td>\n",
       "      <td>1</td>\n",
       "      <td>0</td>\n",
       "      <td>0</td>\n",
       "      <td>0</td>\n",
       "      <td>0</td>\n",
       "      <td>0</td>\n",
       "      <td>1</td>\n",
       "      <td>0</td>\n",
       "    </tr>\n",
       "  </tbody>\n",
       "</table>\n",
       "<p>5 rows × 22 columns</p>\n",
       "</div>"
      ],
      "text/plain": [
       "        age    trtbps      chol  thalachh  oldpeak  sex_1  cp_1  cp_2  cp_3  \\\n",
       "0  0.965901  0.845093 -0.236684  0.021855      2.3      1     0     0     1   \n",
       "1 -1.902555 -0.061886  0.119326  1.639116      3.5      1     0     1     0   \n",
       "2 -1.461254 -0.061886 -0.843995  0.983470      1.4      0     1     0     0   \n",
       "3  0.193624 -0.666538 -0.173859  1.245729      0.8      1     1     0     0   \n",
       "4  0.303950 -0.666538  2.297269  0.590082      0.6      0     0     0     0   \n",
       "\n",
       "   fbs_1  ...  exng_1  slp_1  slp_2  caa_1  caa_2  caa_3  caa_4  thall_1  \\\n",
       "0      1  ...       0      0      0      0      0      0      0        1   \n",
       "1      0  ...       0      0      0      0      0      0      0        0   \n",
       "2      0  ...       0      0      1      0      0      0      0        0   \n",
       "3      0  ...       0      0      1      0      0      0      0        0   \n",
       "4      0  ...       1      0      1      0      0      0      0        0   \n",
       "\n",
       "   thall_2  thall_3  \n",
       "0        0        0  \n",
       "1        1        0  \n",
       "2        1        0  \n",
       "3        1        0  \n",
       "4        1        0  \n",
       "\n",
       "[5 rows x 22 columns]"
      ]
     },
     "execution_count": 37,
     "metadata": {},
     "output_type": "execute_result"
    }
   ],
   "source": [
    "#The last feature of numeric_list is output\n",
    "#So we didnt use output to scaler\n",
    "#We standardized numerical features\n",
    "X[numeric_list[:-1]]=scaler.fit_transform(X[numeric_list[:-1]])\n",
    "X.head()"
   ]
  },
  {
   "cell_type": "markdown",
   "id": "fc5786ff",
   "metadata": {
    "papermill": {
     "duration": 0.112123,
     "end_time": "2022-02-26T09:27:11.942653",
     "exception": false,
     "start_time": "2022-02-26T09:27:11.830530",
     "status": "completed"
    },
    "tags": []
   },
   "source": [
    "## Train/Test Split"
   ]
  },
  {
   "cell_type": "code",
   "execution_count": 38,
   "id": "04741a77",
   "metadata": {
    "execution": {
     "iopub.execute_input": "2022-02-26T09:27:12.189262Z",
     "iopub.status.busy": "2022-02-26T09:27:12.188557Z",
     "iopub.status.idle": "2022-02-26T09:27:12.197166Z",
     "shell.execute_reply": "2022-02-26T09:27:12.197941Z",
     "shell.execute_reply.started": "2022-02-26T08:49:31.022785Z"
    },
    "papermill": {
     "duration": 0.126903,
     "end_time": "2022-02-26T09:27:12.198167",
     "exception": false,
     "start_time": "2022-02-26T09:27:12.071264",
     "status": "completed"
    },
    "tags": []
   },
   "outputs": [
    {
     "name": "stdout",
     "output_type": "stream",
     "text": [
      "X_train: (268, 22)\n",
      "X_test: (30, 22)\n",
      "y_train: (268, 1)\n",
      "y_test: (30, 1)\n"
     ]
    }
   ],
   "source": [
    "X_train, X_test, y_train, y_test = train_test_split(X,y,test_size=0.1, random_state=3)\n",
    "print(\"X_train: {}\".format(X_train.shape))\n",
    "print(\"X_test: {}\".format(X_test.shape))\n",
    "print(\"y_train: {}\".format(y_train.shape))\n",
    "print(\"y_test: {}\".format(y_test.shape))"
   ]
  },
  {
   "cell_type": "markdown",
   "id": "ae6525d3",
   "metadata": {
    "papermill": {
     "duration": 0.111588,
     "end_time": "2022-02-26T09:27:12.421788",
     "exception": false,
     "start_time": "2022-02-26T09:27:12.310200",
     "status": "completed"
    },
    "tags": []
   },
   "source": [
    "## Logistic Regression\n",
    "\n",
    "* Logistic regression is a process of modeling the probability of a discrete outcome given an input variable. The most common logistic regression models a binary outcome; something that can take two values such as true/false, yes/no, and so on."
   ]
  },
  {
   "cell_type": "code",
   "execution_count": 39,
   "id": "9b55c97b",
   "metadata": {
    "execution": {
     "iopub.execute_input": "2022-02-26T09:27:12.649118Z",
     "iopub.status.busy": "2022-02-26T09:27:12.648487Z",
     "iopub.status.idle": "2022-02-26T09:27:12.653276Z",
     "shell.execute_reply": "2022-02-26T09:27:12.653900Z",
     "shell.execute_reply.started": "2022-02-26T08:51:34.622873Z"
    },
    "papermill": {
     "duration": 0.119632,
     "end_time": "2022-02-26T09:27:12.654070",
     "exception": false,
     "start_time": "2022-02-26T09:27:12.534438",
     "status": "completed"
    },
    "tags": []
   },
   "outputs": [
    {
     "data": {
      "text/plain": [
       "LogisticRegression()"
      ]
     },
     "execution_count": 39,
     "metadata": {},
     "output_type": "execute_result"
    }
   ],
   "source": [
    "logreg=LogisticRegression()\n",
    "logreg"
   ]
  },
  {
   "cell_type": "code",
   "execution_count": 40,
   "id": "060ffe90",
   "metadata": {
    "execution": {
     "iopub.execute_input": "2022-02-26T09:27:12.880568Z",
     "iopub.status.busy": "2022-02-26T09:27:12.879959Z",
     "iopub.status.idle": "2022-02-26T09:27:12.898933Z",
     "shell.execute_reply": "2022-02-26T09:27:12.898323Z",
     "shell.execute_reply.started": "2022-02-26T08:51:57.026027Z"
    },
    "papermill": {
     "duration": 0.133709,
     "end_time": "2022-02-26T09:27:12.899075",
     "exception": false,
     "start_time": "2022-02-26T09:27:12.765366",
     "status": "completed"
    },
    "tags": []
   },
   "outputs": [
    {
     "data": {
      "text/plain": [
       "LogisticRegression()"
      ]
     },
     "execution_count": 40,
     "metadata": {},
     "output_type": "execute_result"
    }
   ],
   "source": [
    "#fitting=training\n",
    "logreg.fit(X_train,y_train)"
   ]
  },
  {
   "cell_type": "code",
   "execution_count": 41,
   "id": "15ae246e",
   "metadata": {
    "execution": {
     "iopub.execute_input": "2022-02-26T09:27:13.151424Z",
     "iopub.status.busy": "2022-02-26T09:27:13.145009Z",
     "iopub.status.idle": "2022-02-26T09:27:13.154396Z",
     "shell.execute_reply": "2022-02-26T09:27:13.154986Z",
     "shell.execute_reply.started": "2022-02-26T08:55:13.230110Z"
    },
    "papermill": {
     "duration": 0.143406,
     "end_time": "2022-02-26T09:27:13.155155",
     "exception": false,
     "start_time": "2022-02-26T09:27:13.011749",
     "status": "completed"
    },
    "tags": []
   },
   "outputs": [
    {
     "data": {
      "text/plain": [
       "array([[0.94252608, 0.05747392],\n",
       "       [0.06987766, 0.93012234],\n",
       "       [0.11254982, 0.88745018],\n",
       "       [0.47977949, 0.52022051],\n",
       "       [0.08754891, 0.91245109],\n",
       "       [0.01966602, 0.98033398],\n",
       "       [0.01313076, 0.98686924],\n",
       "       [0.25608762, 0.74391238],\n",
       "       [0.93025651, 0.06974349],\n",
       "       [0.04680322, 0.95319678],\n",
       "       [0.95711862, 0.04288138],\n",
       "       [0.01124265, 0.98875735],\n",
       "       [0.41858447, 0.58141553],\n",
       "       [0.6057325 , 0.3942675 ],\n",
       "       [0.02733085, 0.97266915],\n",
       "       [0.0261538 , 0.9738462 ],\n",
       "       [0.84053044, 0.15946956],\n",
       "       [0.03593571, 0.96406429],\n",
       "       [0.86161159, 0.13838841],\n",
       "       [0.97599523, 0.02400477],\n",
       "       [0.6204125 , 0.3795875 ],\n",
       "       [0.31203666, 0.68796334],\n",
       "       [0.93491854, 0.06508146],\n",
       "       [0.00474821, 0.99525179],\n",
       "       [0.44481395, 0.55518605],\n",
       "       [0.33837871, 0.66162129],\n",
       "       [0.03945105, 0.96054895],\n",
       "       [0.99154232, 0.00845768],\n",
       "       [0.46749931, 0.53250069],\n",
       "       [0.69698284, 0.30301716]])"
      ]
     },
     "execution_count": 41,
     "metadata": {},
     "output_type": "execute_result"
    }
   ],
   "source": [
    "#calculate probabilisties\n",
    "y_pred_prob=logreg.predict_proba(X_test)\n",
    "y_pred_prob\n",
    "\n",
    "#first value refers to 0 (probability of not having a heart attack)\n",
    "#second value refers to 1 (probability of having a heart attack)"
   ]
  },
  {
   "cell_type": "code",
   "execution_count": 42,
   "id": "4098dbd2",
   "metadata": {
    "execution": {
     "iopub.execute_input": "2022-02-26T09:27:13.386965Z",
     "iopub.status.busy": "2022-02-26T09:27:13.386335Z",
     "iopub.status.idle": "2022-02-26T09:27:13.391772Z",
     "shell.execute_reply": "2022-02-26T09:27:13.392378Z",
     "shell.execute_reply.started": "2022-02-26T08:56:50.223910Z"
    },
    "papermill": {
     "duration": 0.121675,
     "end_time": "2022-02-26T09:27:13.392548",
     "exception": false,
     "start_time": "2022-02-26T09:27:13.270873",
     "status": "completed"
    },
    "tags": []
   },
   "outputs": [
    {
     "data": {
      "text/plain": [
       "array([0, 1, 1, 1, 1, 1, 1, 1, 0, 1, 0, 1, 1, 0, 1, 1, 0, 1, 0, 0, 0, 1,\n",
       "       0, 1, 1, 1, 1, 0, 1, 0])"
      ]
     },
     "execution_count": 42,
     "metadata": {},
     "output_type": "execute_result"
    }
   ],
   "source": [
    "#The numpy.argmax() function returns indices of the max element of the array in a particular axis. \n",
    "y_pred = np.argmax(y_pred_prob,axis=1)\n",
    "y_pred"
   ]
  },
  {
   "cell_type": "code",
   "execution_count": 43,
   "id": "1e9c8391",
   "metadata": {
    "execution": {
     "iopub.execute_input": "2022-02-26T09:27:13.622315Z",
     "iopub.status.busy": "2022-02-26T09:27:13.621674Z",
     "iopub.status.idle": "2022-02-26T09:27:13.634230Z",
     "shell.execute_reply": "2022-02-26T09:27:13.633575Z",
     "shell.execute_reply.started": "2022-02-26T08:58:03.590884Z"
    },
    "papermill": {
     "duration": 0.128163,
     "end_time": "2022-02-26T09:27:13.634381",
     "exception": false,
     "start_time": "2022-02-26T09:27:13.506218",
     "status": "completed"
    },
    "tags": []
   },
   "outputs": [
    {
     "data": {
      "text/html": [
       "<div>\n",
       "<style scoped>\n",
       "    .dataframe tbody tr th:only-of-type {\n",
       "        vertical-align: middle;\n",
       "    }\n",
       "\n",
       "    .dataframe tbody tr th {\n",
       "        vertical-align: top;\n",
       "    }\n",
       "\n",
       "    .dataframe thead th {\n",
       "        text-align: right;\n",
       "    }\n",
       "</style>\n",
       "<table border=\"1\" class=\"dataframe\">\n",
       "  <thead>\n",
       "    <tr style=\"text-align: right;\">\n",
       "      <th></th>\n",
       "      <th>0</th>\n",
       "      <th>1</th>\n",
       "      <th>y_pred</th>\n",
       "    </tr>\n",
       "  </thead>\n",
       "  <tbody>\n",
       "    <tr>\n",
       "      <th>0</th>\n",
       "      <td>0.942526</td>\n",
       "      <td>0.057474</td>\n",
       "      <td>0</td>\n",
       "    </tr>\n",
       "    <tr>\n",
       "      <th>1</th>\n",
       "      <td>0.069878</td>\n",
       "      <td>0.930122</td>\n",
       "      <td>1</td>\n",
       "    </tr>\n",
       "    <tr>\n",
       "      <th>2</th>\n",
       "      <td>0.112550</td>\n",
       "      <td>0.887450</td>\n",
       "      <td>1</td>\n",
       "    </tr>\n",
       "    <tr>\n",
       "      <th>3</th>\n",
       "      <td>0.479779</td>\n",
       "      <td>0.520221</td>\n",
       "      <td>1</td>\n",
       "    </tr>\n",
       "    <tr>\n",
       "      <th>4</th>\n",
       "      <td>0.087549</td>\n",
       "      <td>0.912451</td>\n",
       "      <td>1</td>\n",
       "    </tr>\n",
       "  </tbody>\n",
       "</table>\n",
       "</div>"
      ],
      "text/plain": [
       "          0         1  y_pred\n",
       "0  0.942526  0.057474       0\n",
       "1  0.069878  0.930122       1\n",
       "2  0.112550  0.887450       1\n",
       "3  0.479779  0.520221       1\n",
       "4  0.087549  0.912451       1"
      ]
     },
     "execution_count": 43,
     "metadata": {},
     "output_type": "execute_result"
    }
   ],
   "source": [
    "dummy_ = pd.DataFrame(y_pred_prob)\n",
    "dummy_[\"y_pred\"]=y_pred\n",
    "dummy_.head()"
   ]
  },
  {
   "cell_type": "code",
   "execution_count": 44,
   "id": "98deb0af",
   "metadata": {
    "execution": {
     "iopub.execute_input": "2022-02-26T09:27:13.868286Z",
     "iopub.status.busy": "2022-02-26T09:27:13.865875Z",
     "iopub.status.idle": "2022-02-26T09:27:13.872145Z",
     "shell.execute_reply": "2022-02-26T09:27:13.872735Z",
     "shell.execute_reply.started": "2022-02-26T08:59:01.634966Z"
    },
    "papermill": {
     "duration": 0.125044,
     "end_time": "2022-02-26T09:27:13.872924",
     "exception": false,
     "start_time": "2022-02-26T09:27:13.747880",
     "status": "completed"
    },
    "tags": []
   },
   "outputs": [
    {
     "name": "stdout",
     "output_type": "stream",
     "text": [
      "Test accuracy: 0.9\n"
     ]
    }
   ],
   "source": [
    "print(\"Test accuracy: {}\".format(accuracy_score(y_pred,y_test)))"
   ]
  },
  {
   "attachments": {
    "5fd6dbfe-494b-4f5e-9a75-8829e5857b04.jpg": {
     "image/jpeg": "[encoded data removed]"
    }
   },
   "cell_type": "markdown",
   "id": "6bc373aa",
   "metadata": {
    "papermill": {
     "duration": 0.137211,
     "end_time": "2022-02-26T09:27:14.132209",
     "exception": false,
     "start_time": "2022-02-26T09:27:13.994998",
     "status": "completed"
    },
    "tags": []
   },
   "source": [
    "### ROC Curve\n",
    "![images.jpg](attachment:5fd6dbfe-494b-4f5e-9a75-8829e5857b04.jpg)"
   ]
  },
  {
   "cell_type": "code",
   "execution_count": 45,
   "id": "eebc65f6",
   "metadata": {
    "execution": {
     "iopub.execute_input": "2022-02-26T09:27:14.414168Z",
     "iopub.status.busy": "2022-02-26T09:27:14.413448Z",
     "iopub.status.idle": "2022-02-26T09:27:14.417674Z",
     "shell.execute_reply": "2022-02-26T09:27:14.418251Z",
     "shell.execute_reply.started": "2022-02-26T09:01:01.683716Z"
    },
    "papermill": {
     "duration": 0.14874,
     "end_time": "2022-02-26T09:27:14.418440",
     "exception": false,
     "start_time": "2022-02-26T09:27:14.269700",
     "status": "completed"
    },
    "tags": []
   },
   "outputs": [],
   "source": [
    "#ROC Curve\n",
    "fpr, tpr, thresholds=roc_curve(y_test, y_pred_prob[:,1])"
   ]
  },
  {
   "cell_type": "code",
   "execution_count": 46,
   "id": "cc214566",
   "metadata": {
    "execution": {
     "iopub.execute_input": "2022-02-26T09:27:14.665853Z",
     "iopub.status.busy": "2022-02-26T09:27:14.650887Z",
     "iopub.status.idle": "2022-02-26T09:27:14.799238Z",
     "shell.execute_reply": "2022-02-26T09:27:14.799700Z",
     "shell.execute_reply.started": "2022-02-26T09:02:46.236057Z"
    },
    "papermill": {
     "duration": 0.266488,
     "end_time": "2022-02-26T09:27:14.799895",
     "exception": false,
     "start_time": "2022-02-26T09:27:14.533407",
     "status": "completed"
    },
    "tags": []
   },
   "outputs": [
    {
     "data": {
      "image/png": "[encoded data removed]",
      "text/plain": [
       "<Figure size 432x288 with 1 Axes>"
      ]
     },
     "metadata": {
      "needs_background": "light"
     },
     "output_type": "display_data"
    }
   ],
   "source": [
    "#plot curve\n",
    "# To draw roc curve, results should be probabilistic\n",
    "plt.plot([0,1],[0,1],\"k--\")#we drawed diagonal\n",
    "plt.plot(fpr,tpr,label=\"Logistic Regression\")\n",
    "plt.xlabel(\"False Positive Rate\")\n",
    "plt.ylabel(\"True Positive Rate\")\n",
    "plt.title(\"Logistic Regression Roc Curve\")\n",
    "plt.show()"
   ]
  },
  {
   "cell_type": "markdown",
   "id": "1bd04c97",
   "metadata": {
    "papermill": {
     "duration": 0.115567,
     "end_time": "2022-02-26T09:27:15.032429",
     "exception": false,
     "start_time": "2022-02-26T09:27:14.916862",
     "status": "completed"
    },
    "tags": []
   },
   "source": [
    "## Hyperparameter Tuning\n",
    "* In logistic regression, there is a technique called regularization to prevent overfitting.\n",
    "* There are different reqularization technique.\n",
    "    * L1\n",
    "    * L2\n",
    "* Overfitting is a concept in data science, which occurs when a statistical model fits exactly against its training data. When this happens, the algorithm unfortunately cannot perform accurately against unseen data, defeating its purpose. Generalization of a model to new data is ultimately what allows us to use machine learning algorithms every day to make predictions and classify data.\n",
    "\n"
   ]
  },
  {
   "cell_type": "code",
   "execution_count": 47,
   "id": "599448ab",
   "metadata": {
    "execution": {
     "iopub.execute_input": "2022-02-26T09:27:15.270548Z",
     "iopub.status.busy": "2022-02-26T09:27:15.269912Z",
     "iopub.status.idle": "2022-02-26T09:27:15.272460Z",
     "shell.execute_reply": "2022-02-26T09:27:15.272943Z",
     "shell.execute_reply.started": "2022-02-26T09:14:02.123297Z"
    },
    "papermill": {
     "duration": 0.123718,
     "end_time": "2022-02-26T09:27:15.273111",
     "exception": false,
     "start_time": "2022-02-26T09:27:15.149393",
     "status": "completed"
    },
    "tags": []
   },
   "outputs": [
    {
     "data": {
      "text/plain": [
       "LogisticRegression()"
      ]
     },
     "execution_count": 47,
     "metadata": {},
     "output_type": "execute_result"
    }
   ],
   "source": [
    "lr=LogisticRegression()\n",
    "lr"
   ]
  },
  {
   "cell_type": "code",
   "execution_count": 48,
   "id": "a2542bac",
   "metadata": {
    "execution": {
     "iopub.execute_input": "2022-02-26T09:27:15.506525Z",
     "iopub.status.busy": "2022-02-26T09:27:15.505546Z",
     "iopub.status.idle": "2022-02-26T09:27:15.509320Z",
     "shell.execute_reply": "2022-02-26T09:27:15.509853Z",
     "shell.execute_reply.started": "2022-02-26T09:22:39.482879Z"
    },
    "papermill": {
     "duration": 0.122036,
     "end_time": "2022-02-26T09:27:15.510015",
     "exception": false,
     "start_time": "2022-02-26T09:27:15.387979",
     "status": "completed"
    },
    "tags": []
   },
   "outputs": [],
   "source": [
    "penalty=['l1','l2']\n",
    "parameters = {\"penalty\": penalty}\n",
    "\n"
   ]
  },
  {
   "cell_type": "code",
   "execution_count": 49,
   "id": "a438508e",
   "metadata": {
    "execution": {
     "iopub.execute_input": "2022-02-26T09:27:15.750636Z",
     "iopub.status.busy": "2022-02-26T09:27:15.749832Z",
     "iopub.status.idle": "2022-02-26T09:27:15.752754Z",
     "shell.execute_reply": "2022-02-26T09:27:15.753614Z",
     "shell.execute_reply.started": "2022-02-26T09:22:40.652043Z"
    },
    "papermill": {
     "duration": 0.127853,
     "end_time": "2022-02-26T09:27:15.753891",
     "exception": false,
     "start_time": "2022-02-26T09:27:15.626038",
     "status": "completed"
    },
    "tags": []
   },
   "outputs": [
    {
     "data": {
      "text/plain": [
       "GridSearchCV(estimator=LogisticRegression(),\n",
       "             param_grid={'penalty': ['l1', 'l2']})"
      ]
     },
     "execution_count": 49,
     "metadata": {},
     "output_type": "execute_result"
    }
   ],
   "source": [
    "lr_searcher=GridSearchCV(lr,parameters)\n",
    "lr_searcher\n"
   ]
  },
  {
   "cell_type": "code",
   "execution_count": 50,
   "id": "b07b364d",
   "metadata": {
    "execution": {
     "iopub.execute_input": "2022-02-26T09:27:15.997261Z",
     "iopub.status.busy": "2022-02-26T09:27:15.996589Z",
     "iopub.status.idle": "2022-02-26T09:27:16.002557Z",
     "shell.execute_reply": "2022-02-26T09:27:16.001968Z",
     "shell.execute_reply.started": "2022-02-26T09:22:43.751050Z"
    },
    "papermill": {
     "duration": 0.126083,
     "end_time": "2022-02-26T09:27:16.002700",
     "exception": false,
     "start_time": "2022-02-26T09:27:15.876617",
     "status": "completed"
    },
    "tags": []
   },
   "outputs": [
    {
     "name": "stdout",
     "output_type": "stream",
     "text": [
      "dict_keys(['C', 'class_weight', 'dual', 'fit_intercept', 'intercept_scaling', 'l1_ratio', 'max_iter', 'multi_class', 'n_jobs', 'penalty', 'random_state', 'solver', 'tol', 'verbose', 'warm_start'])\n"
     ]
    }
   ],
   "source": [
    "print(lr.get_params().keys())"
   ]
  },
  {
   "cell_type": "code",
   "execution_count": 51,
   "id": "1214ebc7",
   "metadata": {
    "execution": {
     "iopub.execute_input": "2022-02-26T09:27:16.247441Z",
     "iopub.status.busy": "2022-02-26T09:27:16.242918Z",
     "iopub.status.idle": "2022-02-26T09:27:16.350422Z",
     "shell.execute_reply": "2022-02-26T09:27:16.349878Z",
     "shell.execute_reply.started": "2022-02-26T09:22:44.626605Z"
    },
    "papermill": {
     "duration": 0.227556,
     "end_time": "2022-02-26T09:27:16.350567",
     "exception": false,
     "start_time": "2022-02-26T09:27:16.123011",
     "status": "completed"
    },
    "tags": []
   },
   "outputs": [
    {
     "data": {
      "text/plain": [
       "GridSearchCV(estimator=LogisticRegression(),\n",
       "             param_grid={'penalty': ['l1', 'l2']})"
      ]
     },
     "execution_count": 51,
     "metadata": {},
     "output_type": "execute_result"
    }
   ],
   "source": [
    "lr_searcher.fit(X_train, y_train)"
   ]
  },
  {
   "cell_type": "code",
   "execution_count": 52,
   "id": "e12076de",
   "metadata": {
    "execution": {
     "iopub.execute_input": "2022-02-26T09:27:16.588899Z",
     "iopub.status.busy": "2022-02-26T09:27:16.588256Z",
     "iopub.status.idle": "2022-02-26T09:27:16.592052Z",
     "shell.execute_reply": "2022-02-26T09:27:16.592660Z",
     "shell.execute_reply.started": "2022-02-26T09:22:48.131548Z"
    },
    "papermill": {
     "duration": 0.125646,
     "end_time": "2022-02-26T09:27:16.592849",
     "exception": false,
     "start_time": "2022-02-26T09:27:16.467203",
     "status": "completed"
    },
    "tags": []
   },
   "outputs": [
    {
     "name": "stdout",
     "output_type": "stream",
     "text": [
      "Best parameters:  {'penalty': 'l2'}\n"
     ]
    }
   ],
   "source": [
    "print(\"Best parameters: \",lr_searcher.best_params_)"
   ]
  },
  {
   "cell_type": "code",
   "execution_count": 53,
   "id": "d96a5638",
   "metadata": {
    "execution": {
     "iopub.execute_input": "2022-02-26T09:27:16.830092Z",
     "iopub.status.busy": "2022-02-26T09:27:16.829459Z",
     "iopub.status.idle": "2022-02-26T09:27:16.834754Z",
     "shell.execute_reply": "2022-02-26T09:27:16.835361Z",
     "shell.execute_reply.started": "2022-02-26T09:23:11.106436Z"
    },
    "papermill": {
     "duration": 0.126213,
     "end_time": "2022-02-26T09:27:16.835533",
     "exception": false,
     "start_time": "2022-02-26T09:27:16.709320",
     "status": "completed"
    },
    "tags": []
   },
   "outputs": [],
   "source": [
    "y_pred=lr_searcher.predict(X_test)"
   ]
  },
  {
   "cell_type": "code",
   "execution_count": 54,
   "id": "14400791",
   "metadata": {
    "execution": {
     "iopub.execute_input": "2022-02-26T09:27:17.073570Z",
     "iopub.status.busy": "2022-02-26T09:27:17.072927Z",
     "iopub.status.idle": "2022-02-26T09:27:17.079864Z",
     "shell.execute_reply": "2022-02-26T09:27:17.079356Z",
     "shell.execute_reply.started": "2022-02-26T09:23:50.872960Z"
    },
    "papermill": {
     "duration": 0.127038,
     "end_time": "2022-02-26T09:27:17.080005",
     "exception": false,
     "start_time": "2022-02-26T09:27:16.952967",
     "status": "completed"
    },
    "tags": []
   },
   "outputs": [
    {
     "name": "stdout",
     "output_type": "stream",
     "text": [
      "Test accuracy:  0.9\n"
     ]
    }
   ],
   "source": [
    "print(\"Test accuracy:  {}\".format(accuracy_score(y_pred,y_test)))"
   ]
  },
  {
   "cell_type": "code",
   "execution_count": null,
   "id": "88cb6a9f",
   "metadata": {
    "papermill": {
     "duration": 0.11741,
     "end_time": "2022-02-26T09:27:17.315064",
     "exception": false,
     "start_time": "2022-02-26T09:27:17.197654",
     "status": "completed"
    },
    "tags": []
   },
   "outputs": [],
   "source": []
  }
 ],
 "metadata": {
  "kernelspec": {
   "display_name": "Python 3",
   "language": "python",
   "name": "python3"
  },
  "language_info": {
   "codemirror_mode": {
    "name": "ipython",
    "version": 3
   },
   "file_extension": ".py",
   "mimetype": "text/x-python",
   "name": "python",
   "nbconvert_exporter": "python",
   "pygments_lexer": "ipython3",
   "version": "3.7.12"
  },
  "papermill": {
   "default_parameters": {},
   "duration": 41.587486,
   "end_time": "2022-02-26T09:27:18.344025",
   "environment_variables": {},
   "exception": null,
   "input_path": "__notebook__.ipynb",
   "output_path": "__notebook__.ipynb",
   "parameters": {},
   "start_time": "2022-02-26T09:26:36.756539",
   "version": "2.3.3"
  }
 },
 "nbformat": 4,
 "nbformat_minor": 5
}
